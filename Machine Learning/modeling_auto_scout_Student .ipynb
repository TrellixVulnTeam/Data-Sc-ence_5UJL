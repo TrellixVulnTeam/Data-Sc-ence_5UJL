{
 "cells": [
  {
   "cell_type": "markdown",
   "metadata": {
    "id": "4UCsvzbImqZN"
   },
   "source": [
    "___\n",
    "\n",
    "<p style=\"text-align: center;\"><img src=\"https://docs.google.com/uc?id=1lY0Uj5R04yMY3-ZppPWxqCr5pvBLYPnV\" class=\"img-fluid\" alt=\"CLRSWY\"></p>\n",
    "\n",
    "___"
   ]
  },
  {
   "cell_type": "markdown",
   "metadata": {
    "id": "i5WapR8JmqZN"
   },
   "source": [
    "# WELCOME!"
   ]
  },
  {
   "cell_type": "markdown",
   "metadata": {
    "id": "ZyeGWbuTmqZN"
   },
   "source": [
    "Welcome to \"***Car Price Prediction Project***\". This is the first medium project of ***Machine Learning*** course. In this project you will have the opportunity to apply many algorithms commonly used for regression problems.\n",
    "\n",
    "Also, you will apply various processes such as pre-processing, ***train-test spilit*** and ***cross validation*** that you will use in algorithm modeling and prediction processes in Python with ***scikit-learn***. \n",
    "\n",
    "Before diving into the project, please take a look at the determines and tasks.\n",
    "\n",
    "- **NOTE:** This project assumes that you already know the basics of coding in Python. You should also be familiar with the theory behind regression algorithms and scikit-learn module as well as Machine Learning before you begin.\n"
   ]
  },
  {
   "cell_type": "markdown",
   "metadata": {
    "id": "c0Iul5QymqZN"
   },
   "source": [
    "# #Determines\n",
    "\n",
    "**Auto Scout** data which using for this project, scraped from the on-line car trading company(https://www.autoscout24.com)in 2019, contains many features of 9 different car models. In this project, you will use the data set which is already preprocessed and prepared for algorithms .\n",
    "\n",
    "The aim of this project to understand of machine learning algorithms. Therefore, you will not need any EDA process as you will be working on the edited data.\n",
    "\n",
    "---\n",
    "\n",
    "In this Senario, you will estimate the prices of cars using regression algorithms.\n",
    "\n",
    "While starting you should import the necessary modules and load the data given as pkl file. Also you'll need to do a few pre-processing before moving to modelling. After that you will implement ***Linear Regression, Ridge Regression, Lasso Regression,and Elastic-Net algorithms respectively*** (After completion of Unsupervised Learning section, you can also add bagging and boosting algorithms such as ***Random Forest and XG Boost*** this notebook to develop the project). You can measure the success of your models with regression evaluation metrics as well as with cross validation method.\n",
    "\n",
    "For the better results, you should try to increase the success of your models by performing hyperparameter tuning. Determine feature importances for the model. You can set your model with the most important features for resource saving. You should try to apply this especially in Random Forest and XG Boost algorithms. Unlike the others, you will perform hyperparameter tuning for Random Forest and XG Boost using the ***GridSearchCV*** method. \n",
    "\n",
    "Finally You can compare the performances of algorithms, work more on the algorithm have the most successful prediction rate.\n",
    "\n",
    "\n",
    "\n",
    "\n"
   ]
  },
  {
   "cell_type": "markdown",
   "metadata": {
    "id": "pL-jJ1irmqZN"
   },
   "source": [
    "# #Tasks\n",
    "\n",
    "#### 1. Import Modules, Load Data and Data Review\n",
    "#### 2. Data Pre-Processing\n",
    "#### 3. Implement Linear Regression \n",
    "#### 4. Implement Ridge Regression\n",
    "#### 5. Implement Lasso Regression \n",
    "#### 6. Implement Elastic-Net\n",
    "#### 7. Visually Compare Models Performance In a Graph"
   ]
  },
  {
   "cell_type": "markdown",
   "metadata": {
    "id": "Rik6d_vimqZN"
   },
   "source": [
    "## 1. Import Modules, Load Data and Data Review"
   ]
  },
  {
   "cell_type": "code",
   "execution_count": 29,
   "metadata": {},
   "outputs": [],
   "source": [
    "import pandas as pd\n",
    "import numpy as np \n",
    "import seaborn as sns\n",
    "import matplotlib.pyplot as plt\n",
    "plt.rcParams[\"figure.figsize\"] = (10,6)\n",
    "import warnings\n",
    "warnings.filterwarnings(\"ignore\")\n",
    "warnings.warn(\"this will not show\")\n",
    "pd.set_option('display.float_format', lambda x: '%.3f' % x)"
   ]
  },
  {
   "cell_type": "code",
   "execution_count": 4,
   "metadata": {
    "id": "QBddHlqgmqZN"
   },
   "outputs": [],
   "source": [
    "df = pd.read_csv(\"final_scout_dummy.csv\")"
   ]
  },
  {
   "cell_type": "code",
   "execution_count": 8,
   "metadata": {},
   "outputs": [
    {
     "data": {
      "text/html": [
       "<div>\n",
       "<style scoped>\n",
       "    .dataframe tbody tr th:only-of-type {\n",
       "        vertical-align: middle;\n",
       "    }\n",
       "\n",
       "    .dataframe tbody tr th {\n",
       "        vertical-align: top;\n",
       "    }\n",
       "\n",
       "    .dataframe thead th {\n",
       "        text-align: right;\n",
       "    }\n",
       "</style>\n",
       "<table border=\"1\" class=\"dataframe\">\n",
       "  <thead>\n",
       "    <tr style=\"text-align: right;\">\n",
       "      <th></th>\n",
       "      <th>0</th>\n",
       "      <th>1</th>\n",
       "      <th>2</th>\n",
       "      <th>3</th>\n",
       "      <th>4</th>\n",
       "    </tr>\n",
       "  </thead>\n",
       "  <tbody>\n",
       "    <tr>\n",
       "      <th>price</th>\n",
       "      <td>15770.0</td>\n",
       "      <td>14500.0</td>\n",
       "      <td>14640.0</td>\n",
       "      <td>14500.0</td>\n",
       "      <td>16790.0</td>\n",
       "    </tr>\n",
       "    <tr>\n",
       "      <th>km</th>\n",
       "      <td>56013.0</td>\n",
       "      <td>80000.0</td>\n",
       "      <td>83450.0</td>\n",
       "      <td>73000.0</td>\n",
       "      <td>16200.0</td>\n",
       "    </tr>\n",
       "    <tr>\n",
       "      <th>Gears</th>\n",
       "      <td>7.0</td>\n",
       "      <td>7.0</td>\n",
       "      <td>7.0</td>\n",
       "      <td>6.0</td>\n",
       "      <td>7.0</td>\n",
       "    </tr>\n",
       "    <tr>\n",
       "      <th>age</th>\n",
       "      <td>3.0</td>\n",
       "      <td>2.0</td>\n",
       "      <td>3.0</td>\n",
       "      <td>3.0</td>\n",
       "      <td>3.0</td>\n",
       "    </tr>\n",
       "    <tr>\n",
       "      <th>Previous_Owners</th>\n",
       "      <td>2.0</td>\n",
       "      <td>1.0</td>\n",
       "      <td>1.0</td>\n",
       "      <td>1.0</td>\n",
       "      <td>1.0</td>\n",
       "    </tr>\n",
       "    <tr>\n",
       "      <th>...</th>\n",
       "      <td>...</td>\n",
       "      <td>...</td>\n",
       "      <td>...</td>\n",
       "      <td>...</td>\n",
       "      <td>...</td>\n",
       "    </tr>\n",
       "    <tr>\n",
       "      <th>Upholstery_type_Part/Full Leather</th>\n",
       "      <td>0.0</td>\n",
       "      <td>0.0</td>\n",
       "      <td>0.0</td>\n",
       "      <td>0.0</td>\n",
       "      <td>0.0</td>\n",
       "    </tr>\n",
       "    <tr>\n",
       "      <th>Gearing_Type_Manual</th>\n",
       "      <td>0.0</td>\n",
       "      <td>0.0</td>\n",
       "      <td>0.0</td>\n",
       "      <td>0.0</td>\n",
       "      <td>0.0</td>\n",
       "    </tr>\n",
       "    <tr>\n",
       "      <th>Gearing_Type_Semi-automatic</th>\n",
       "      <td>0.0</td>\n",
       "      <td>0.0</td>\n",
       "      <td>0.0</td>\n",
       "      <td>0.0</td>\n",
       "      <td>0.0</td>\n",
       "    </tr>\n",
       "    <tr>\n",
       "      <th>Drive_chain_front</th>\n",
       "      <td>1.0</td>\n",
       "      <td>1.0</td>\n",
       "      <td>1.0</td>\n",
       "      <td>1.0</td>\n",
       "      <td>1.0</td>\n",
       "    </tr>\n",
       "    <tr>\n",
       "      <th>Drive_chain_rear</th>\n",
       "      <td>0.0</td>\n",
       "      <td>0.0</td>\n",
       "      <td>0.0</td>\n",
       "      <td>0.0</td>\n",
       "      <td>0.0</td>\n",
       "    </tr>\n",
       "  </tbody>\n",
       "</table>\n",
       "<p>132 rows × 5 columns</p>\n",
       "</div>"
      ],
      "text/plain": [
       "                                         0        1        2        3        4\n",
       "price                              15770.0  14500.0  14640.0  14500.0  16790.0\n",
       "km                                 56013.0  80000.0  83450.0  73000.0  16200.0\n",
       "Gears                                  7.0      7.0      7.0      6.0      7.0\n",
       "age                                    3.0      2.0      3.0      3.0      3.0\n",
       "Previous_Owners                        2.0      1.0      1.0      1.0      1.0\n",
       "...                                    ...      ...      ...      ...      ...\n",
       "Upholstery_type_Part/Full Leather      0.0      0.0      0.0      0.0      0.0\n",
       "Gearing_Type_Manual                    0.0      0.0      0.0      0.0      0.0\n",
       "Gearing_Type_Semi-automatic            0.0      0.0      0.0      0.0      0.0\n",
       "Drive_chain_front                      1.0      1.0      1.0      1.0      1.0\n",
       "Drive_chain_rear                       0.0      0.0      0.0      0.0      0.0\n",
       "\n",
       "[132 rows x 5 columns]"
      ]
     },
     "execution_count": 8,
     "metadata": {},
     "output_type": "execute_result"
    }
   ],
   "source": [
    "df.head().T"
   ]
  },
  {
   "cell_type": "code",
   "execution_count": 50,
   "metadata": {},
   "outputs": [],
   "source": [
    "X = df.drop(\"price\", axis =1)\n",
    "y = df[\"price\"]"
   ]
  },
  {
   "cell_type": "code",
   "execution_count": 51,
   "metadata": {},
   "outputs": [],
   "source": [
    "from sklearn.model_selection import train_test_split"
   ]
  },
  {
   "cell_type": "code",
   "execution_count": 52,
   "metadata": {},
   "outputs": [],
   "source": [
    "X_train, X_test, y_train, y_test = train_test_split(poly_features, y, test_size=0.3, random_state=2)"
   ]
  },
  {
   "cell_type": "markdown",
   "metadata": {
    "id": "QsEUUAAKmqZN"
   },
   "source": [
    "## 2. Data Pre-Processing"
   ]
  },
  {
   "cell_type": "markdown",
   "metadata": {
    "id": "QtVkM6f2mqZN"
   },
   "source": [
    "As you know, the data set must be edited before proceeding to the implementation of the model. As the last step before model fitting, you need to spilit the data set as train and test. Then, you should train the model with train data and evaluate the performance of the model on the test data. You can use the train and test data you have created for all algorithms.\n",
    "\n",
    "You must also drop your target variable, the column you are trying to predict."
   ]
  },
  {
   "cell_type": "markdown",
   "metadata": {
    "id": "K7d_92iemqZN"
   },
   "source": [
    "You can use many [performance metrics for regression](https://medium.com/analytics-vidhya/evaluation-metrics-for-regression-problems-343c4923d922) to measure the performance of the regression model you train. You can define a function to view different metric results together.\n",
    "\n",
    "You can also use the [cross validation](https://towardsdatascience.com/cross-validation-explained-evaluating-estimator-performance-e51e5430ff85) method to measure the estimator performance. Cross validation uses different data samples from your test set and calculates the accuracy score for each data sample. You can calculate the final performance of your estimator by averaging these scores."
   ]
  },
  {
   "cell_type": "code",
   "execution_count": 53,
   "metadata": {
    "id": "-3gMQ3utmqZN"
   },
   "outputs": [],
   "source": [
    "from sklearn.preprocessing import StandardScaler, MinMaxScaler, RobustScaler # Robustscaler is used when outlier could be present\n",
    "\n",
    "scaler = StandardScaler()"
   ]
  },
  {
   "cell_type": "code",
   "execution_count": 54,
   "metadata": {},
   "outputs": [
    {
     "data": {
      "text/plain": [
       "StandardScaler()"
      ]
     },
     "execution_count": 54,
     "metadata": {},
     "output_type": "execute_result"
    }
   ],
   "source": [
    "scaler.fit(X_train)"
   ]
  },
  {
   "cell_type": "code",
   "execution_count": 55,
   "metadata": {},
   "outputs": [
    {
     "data": {
      "text/plain": [
       "array([[-0.59848747, -1.33196679, -0.34644911, ..., -0.17283359,\n",
       "         0.11684922, -0.00947665],\n",
       "       [-0.82381226,  1.49979766, -1.23972472, ..., -0.17283359,\n",
       "         0.11684922, -0.00947665],\n",
       "       [-0.86838543,  0.08391543, -1.23972472, ..., -0.17283359,\n",
       "         0.11684922, -0.00947665],\n",
       "       ...,\n",
       "       [-0.4142237 ,  0.08391543, -0.34644911, ..., -0.17283359,\n",
       "         0.11684922, -0.00947665],\n",
       "       [-0.86814176, -1.33196679, -1.23972472, ..., -0.17283359,\n",
       "         0.11684922, -0.00947665],\n",
       "       [-0.86819591, -1.33196679, -1.23972472, ..., -0.17283359,\n",
       "         0.11684922, -0.00947665]])"
      ]
     },
     "execution_count": 55,
     "metadata": {},
     "output_type": "execute_result"
    }
   ],
   "source": [
    "X_train_scaled = scaler.transform(X_train) \n",
    "X_train_scaled"
   ]
  },
  {
   "cell_type": "code",
   "execution_count": 56,
   "metadata": {},
   "outputs": [
    {
     "data": {
      "text/plain": [
       "array([[-0.17635395, -1.33196679,  0.54682649, ..., -0.17283359,\n",
       "         0.11684922, -0.00947665],\n",
       "       [-0.82381226, -1.33196679, -1.23972472, ..., -0.17283359,\n",
       "         0.11684922, -0.00947665],\n",
       "       [-0.30064942, -1.33196679,  0.54682649, ..., -0.17283359,\n",
       "         0.11684922, -0.00947665],\n",
       "       ...,\n",
       "       [-0.86814176,  0.08391543, -1.23972472, ..., -0.17283359,\n",
       "         0.11684922, -0.00947665],\n",
       "       [-0.82381226,  0.08391543, -1.23972472, ..., -0.17283359,\n",
       "         0.11684922, -0.00947665],\n",
       "       [-0.09456423,  1.49979766,  0.54682649, ..., -0.17283359,\n",
       "         0.11684922, -0.00947665]])"
      ]
     },
     "execution_count": 56,
     "metadata": {},
     "output_type": "execute_result"
    }
   ],
   "source": [
    "X_test_scaled = scaler.transform(X_test)\n",
    "X_test_scaled"
   ]
  },
  {
   "cell_type": "markdown",
   "metadata": {
    "id": "An_5ITcAmqZO"
   },
   "source": [
    "## 3. Implement Linear Regression"
   ]
  },
  {
   "cell_type": "markdown",
   "metadata": {
    "id": "0c0y-w8vmqZO"
   },
   "source": [
    " - Import the modul\n",
    " - Fit the model \n",
    " - Predict the test set\n",
    " - Determine feature coefficiant\n",
    " - Evaluate model performance (use performance metrics for regression and cross_val_score)\n",
    " - Compare different evaluation metrics\n",
    " \n",
    "*Note: You can use the [dir()](https://www.geeksforgeeks.org/python-dir-function/) function to see the methods you need.*"
   ]
  },
  {
   "cell_type": "code",
   "execution_count": 57,
   "metadata": {
    "id": "lq6UKn_HmqZO"
   },
   "outputs": [],
   "source": [
    "from sklearn.linear_model import LinearRegression\n",
    "\n",
    "lm = LinearRegression()"
   ]
  },
  {
   "cell_type": "code",
   "execution_count": 58,
   "metadata": {},
   "outputs": [
    {
     "data": {
      "text/plain": [
       "LinearRegression()"
      ]
     },
     "execution_count": 58,
     "metadata": {},
     "output_type": "execute_result"
    }
   ],
   "source": [
    "lm.fit(X_train_scaled, y_train)"
   ]
  },
  {
   "cell_type": "code",
   "execution_count": 59,
   "metadata": {},
   "outputs": [],
   "source": [
    "y_pred = lm.predict(X_test_scaled)\n",
    "y_train_pred = lm.predict(X_train_scaled)"
   ]
  },
  {
   "cell_type": "code",
   "execution_count": 60,
   "metadata": {},
   "outputs": [],
   "source": [
    "from sklearn.metrics import mean_absolute_error, mean_squared_error, r2_score\n",
    "\n",
    "def train_val(y_train, y_train_pred, y_test, y_pred, name):\n",
    "    \n",
    "    scores = {name+\"_train\": {\"R2\" : r2_score(y_train, y_train_pred),\n",
    "    \"mae\" : mean_absolute_error(y_train, y_train_pred),\n",
    "    \"mse\" : mean_squared_error(y_train, y_train_pred),                          \n",
    "    \"rmse\" : np.sqrt(mean_squared_error(y_train, y_train_pred))},\n",
    "    \n",
    "    name+\"_test\": {\"R2\" : r2_score(y_test, y_pred),\n",
    "    \"mae\" : mean_absolute_error(y_test, y_pred),\n",
    "    \"mse\" : mean_squared_error(y_test, y_pred),\n",
    "    \"rmse\" : np.sqrt(mean_squared_error(y_test, y_pred))}}\n",
    "    \n",
    "    return pd.DataFrame(scores)"
   ]
  },
  {
   "cell_type": "code",
   "execution_count": 61,
   "metadata": {},
   "outputs": [
    {
     "data": {
      "text/html": [
       "<div>\n",
       "<style scoped>\n",
       "    .dataframe tbody tr th:only-of-type {\n",
       "        vertical-align: middle;\n",
       "    }\n",
       "\n",
       "    .dataframe tbody tr th {\n",
       "        vertical-align: top;\n",
       "    }\n",
       "\n",
       "    .dataframe thead th {\n",
       "        text-align: right;\n",
       "    }\n",
       "</style>\n",
       "<table border=\"1\" class=\"dataframe\">\n",
       "  <thead>\n",
       "    <tr style=\"text-align: right;\">\n",
       "      <th></th>\n",
       "      <th>linear_train</th>\n",
       "      <th>linear_test</th>\n",
       "    </tr>\n",
       "  </thead>\n",
       "  <tbody>\n",
       "    <tr>\n",
       "      <th>R2</th>\n",
       "      <td>0.889</td>\n",
       "      <td>0.893</td>\n",
       "    </tr>\n",
       "    <tr>\n",
       "      <th>mae</th>\n",
       "      <td>1706.582</td>\n",
       "      <td>1714.381</td>\n",
       "    </tr>\n",
       "    <tr>\n",
       "      <th>mse</th>\n",
       "      <td>6055898.162</td>\n",
       "      <td>5794204.675</td>\n",
       "    </tr>\n",
       "    <tr>\n",
       "      <th>rmse</th>\n",
       "      <td>2460.873</td>\n",
       "      <td>2407.115</td>\n",
       "    </tr>\n",
       "  </tbody>\n",
       "</table>\n",
       "</div>"
      ],
      "text/plain": [
       "      linear_train  linear_test\n",
       "R2           0.889        0.893\n",
       "mae       1706.582     1714.381\n",
       "mse    6055898.162  5794204.675\n",
       "rmse      2460.873     2407.115"
      ]
     },
     "execution_count": 61,
     "metadata": {},
     "output_type": "execute_result"
    }
   ],
   "source": [
    "ls =train_val(y_train, y_train_pred, y_test, y_pred, \"linear\")\n",
    "ls"
   ]
  },
  {
   "cell_type": "code",
   "execution_count": 62,
   "metadata": {},
   "outputs": [],
   "source": [
    "from sklearn.model_selection import cross_validate"
   ]
  },
  {
   "cell_type": "code",
   "execution_count": 63,
   "metadata": {},
   "outputs": [],
   "source": [
    "model = LinearRegression()\n",
    "scores = cross_validate(model, X_train_scaled, y_train, scoring = ['r2', 'neg_mean_absolute_error','neg_mean_squared_error', \\\n",
    "                                                            'neg_root_mean_squared_error'], cv = 5)"
   ]
  },
  {
   "cell_type": "code",
   "execution_count": 64,
   "metadata": {},
   "outputs": [
    {
     "data": {
      "text/plain": [
       "{'fit_time': array([0.15620112, 0.11773658, 0.12487793, 0.11676598, 0.14194798]),\n",
       " 'score_time': array([0.00266266, 0.00299978, 0.00216627, 0.00361609, 0.00400043]),\n",
       " 'test_r2': array([-2.11669480e+22,  8.72678685e-01,  8.88833638e-01,  8.87900070e-01,\n",
       "         8.88485941e-01]),\n",
       " 'test_neg_mean_absolute_error': array([-2.27926962e+13, -1.78824331e+03, -1.75088423e+03, -1.73407284e+03,\n",
       "        -1.67669384e+03]),\n",
       " 'test_neg_mean_squared_error': array([-1.15707320e+30, -7.45496541e+06, -6.01676397e+06, -6.23136644e+06,\n",
       "        -5.52449282e+06]),\n",
       " 'test_neg_root_mean_squared_error': array([-1.07567337e+15, -2.73037825e+03, -2.45290929e+03, -2.49627051e+03,\n",
       "        -2.35042397e+03])}"
      ]
     },
     "execution_count": 64,
     "metadata": {},
     "output_type": "execute_result"
    }
   ],
   "source": [
    "scores"
   ]
  },
  {
   "cell_type": "code",
   "execution_count": 65,
   "metadata": {},
   "outputs": [
    {
     "data": {
      "text/plain": [
       "test_r2                                    -4233389606357628354560.000\n",
       "test_neg_mean_absolute_error                        -4558539239863.513\n",
       "test_neg_mean_squared_error        -231414640540701944847431368704.000\n",
       "test_neg_root_mean_squared_error                  -215134674353074.688\n",
       "dtype: float64"
      ]
     },
     "execution_count": 65,
     "metadata": {},
     "output_type": "execute_result"
    }
   ],
   "source": [
    "scores = pd.DataFrame(scores, index=range(1,6))\n",
    "scores.iloc[:, 2:].mean()"
   ]
  },
  {
   "cell_type": "code",
   "execution_count": 66,
   "metadata": {},
   "outputs": [
    {
     "data": {
      "text/html": [
       "<div>\n",
       "<style scoped>\n",
       "    .dataframe tbody tr th:only-of-type {\n",
       "        vertical-align: middle;\n",
       "    }\n",
       "\n",
       "    .dataframe tbody tr th {\n",
       "        vertical-align: top;\n",
       "    }\n",
       "\n",
       "    .dataframe thead th {\n",
       "        text-align: right;\n",
       "    }\n",
       "</style>\n",
       "<table border=\"1\" class=\"dataframe\">\n",
       "  <thead>\n",
       "    <tr style=\"text-align: right;\">\n",
       "      <th></th>\n",
       "      <th>fit_time</th>\n",
       "      <th>score_time</th>\n",
       "      <th>test_r2</th>\n",
       "      <th>test_neg_mean_absolute_error</th>\n",
       "      <th>test_neg_mean_squared_error</th>\n",
       "      <th>test_neg_root_mean_squared_error</th>\n",
       "    </tr>\n",
       "  </thead>\n",
       "  <tbody>\n",
       "    <tr>\n",
       "      <th>1</th>\n",
       "      <td>0.156</td>\n",
       "      <td>0.003</td>\n",
       "      <td>-21166948031788142821376.000</td>\n",
       "      <td>-22792696192367.668</td>\n",
       "      <td>-1157073202703509653868412665856.000</td>\n",
       "      <td>-1075673371755343.625</td>\n",
       "    </tr>\n",
       "    <tr>\n",
       "      <th>2</th>\n",
       "      <td>0.118</td>\n",
       "      <td>0.003</td>\n",
       "      <td>0.873</td>\n",
       "      <td>-1788.243</td>\n",
       "      <td>-7454965.410</td>\n",
       "      <td>-2730.378</td>\n",
       "    </tr>\n",
       "    <tr>\n",
       "      <th>3</th>\n",
       "      <td>0.125</td>\n",
       "      <td>0.002</td>\n",
       "      <td>0.889</td>\n",
       "      <td>-1750.884</td>\n",
       "      <td>-6016763.967</td>\n",
       "      <td>-2452.909</td>\n",
       "    </tr>\n",
       "    <tr>\n",
       "      <th>4</th>\n",
       "      <td>0.117</td>\n",
       "      <td>0.004</td>\n",
       "      <td>0.888</td>\n",
       "      <td>-1734.073</td>\n",
       "      <td>-6231366.441</td>\n",
       "      <td>-2496.271</td>\n",
       "    </tr>\n",
       "    <tr>\n",
       "      <th>5</th>\n",
       "      <td>0.142</td>\n",
       "      <td>0.004</td>\n",
       "      <td>0.888</td>\n",
       "      <td>-1676.694</td>\n",
       "      <td>-5524492.819</td>\n",
       "      <td>-2350.424</td>\n",
       "    </tr>\n",
       "  </tbody>\n",
       "</table>\n",
       "</div>"
      ],
      "text/plain": [
       "   fit_time  score_time                      test_r2  \\\n",
       "1     0.156       0.003 -21166948031788142821376.000   \n",
       "2     0.118       0.003                        0.873   \n",
       "3     0.125       0.002                        0.889   \n",
       "4     0.117       0.004                        0.888   \n",
       "5     0.142       0.004                        0.888   \n",
       "\n",
       "   test_neg_mean_absolute_error          test_neg_mean_squared_error  \\\n",
       "1           -22792696192367.668 -1157073202703509653868412665856.000   \n",
       "2                     -1788.243                         -7454965.410   \n",
       "3                     -1750.884                         -6016763.967   \n",
       "4                     -1734.073                         -6231366.441   \n",
       "5                     -1676.694                         -5524492.819   \n",
       "\n",
       "   test_neg_root_mean_squared_error  \n",
       "1             -1075673371755343.625  \n",
       "2                         -2730.378  \n",
       "3                         -2452.909  \n",
       "4                         -2496.271  \n",
       "5                         -2350.424  "
      ]
     },
     "execution_count": 66,
     "metadata": {},
     "output_type": "execute_result"
    }
   ],
   "source": [
    "pd.DataFrame(scores, index = range(1,6))"
   ]
  },
  {
   "cell_type": "code",
   "execution_count": 67,
   "metadata": {},
   "outputs": [
    {
     "data": {
      "text/html": [
       "<div>\n",
       "<style scoped>\n",
       "    .dataframe tbody tr th:only-of-type {\n",
       "        vertical-align: middle;\n",
       "    }\n",
       "\n",
       "    .dataframe tbody tr th {\n",
       "        vertical-align: top;\n",
       "    }\n",
       "\n",
       "    .dataframe thead th {\n",
       "        text-align: right;\n",
       "    }\n",
       "</style>\n",
       "<table border=\"1\" class=\"dataframe\">\n",
       "  <thead>\n",
       "    <tr style=\"text-align: right;\">\n",
       "      <th></th>\n",
       "      <th>linear_train</th>\n",
       "      <th>linear_test</th>\n",
       "    </tr>\n",
       "  </thead>\n",
       "  <tbody>\n",
       "    <tr>\n",
       "      <th>R2</th>\n",
       "      <td>0.889</td>\n",
       "      <td>0.893</td>\n",
       "    </tr>\n",
       "    <tr>\n",
       "      <th>mae</th>\n",
       "      <td>1706.582</td>\n",
       "      <td>1714.381</td>\n",
       "    </tr>\n",
       "    <tr>\n",
       "      <th>mse</th>\n",
       "      <td>6055898.162</td>\n",
       "      <td>5794204.675</td>\n",
       "    </tr>\n",
       "    <tr>\n",
       "      <th>rmse</th>\n",
       "      <td>2460.873</td>\n",
       "      <td>2407.115</td>\n",
       "    </tr>\n",
       "  </tbody>\n",
       "</table>\n",
       "</div>"
      ],
      "text/plain": [
       "      linear_train  linear_test\n",
       "R2           0.889        0.893\n",
       "mae       1706.582     1714.381\n",
       "mse    6055898.162  5794204.675\n",
       "rmse      2460.873     2407.115"
      ]
     },
     "execution_count": 67,
     "metadata": {},
     "output_type": "execute_result"
    }
   ],
   "source": [
    "train_val(y_train, y_train_pred, y_test, y_pred, \"linear\")"
   ]
  },
  {
   "cell_type": "code",
   "execution_count": 68,
   "metadata": {},
   "outputs": [
    {
     "data": {
      "image/png": "[encoded data removed]",
      "text/plain": [
       "<Figure size 720x432 with 1 Axes>"
      ]
     },
     "metadata": {
      "needs_background": "light"
     },
     "output_type": "display_data"
    }
   ],
   "source": [
    "sns.lineplot(data = scores.iloc[:,2:]);"
   ]
  },
  {
   "cell_type": "code",
   "execution_count": 69,
   "metadata": {},
   "outputs": [
    {
     "data": {
      "text/plain": [
       "array([-1.36429653e+03,  4.06600386e+02, -1.79342460e+03,  2.99631086e+01,\n",
       "        2.53989868e+03, -8.55834713e+01, -1.72007758e+02, -2.23089658e+02,\n",
       "        6.13508408e+02, -7.02827932e+02,  6.98966025e+01,  3.76549230e+01,\n",
       "       -4.26296206e+00,  1.22977240e+02, -1.28326479e+01,  1.70242159e+02,\n",
       "       -1.26506418e+01, -3.92159459e+01,  6.32691019e+01,  7.06607805e+01,\n",
       "        1.02047085e+02,  4.42785479e+02,  1.15549534e+02,  5.66166783e+01,\n",
       "        2.85424425e+01, -6.42896103e+01,  5.84726718e+01,  6.81844202e+01,\n",
       "       -1.60147956e+02,  9.26463674e+01,  3.17141775e+01,  1.62732326e+02,\n",
       "       -2.05054922e+01,  3.03336592e+02,  2.44500902e+01,  2.13449833e+02,\n",
       "        1.02109226e+02, -2.79390875e+02,  5.35896104e+01, -9.40720403e+01,\n",
       "        6.37978933e+01,  2.03476004e+02, -7.80472644e+01, -4.20442021e+01,\n",
       "        1.27244437e+02, -4.37664800e+00, -3.85129985e+01,  9.15161028e+00,\n",
       "       -2.17002085e+02,  4.53235183e+00,  2.50416377e+02,  4.97862940e+01,\n",
       "        2.50530740e+01,  5.51606076e+00,  5.23884907e+01, -1.08095392e+02,\n",
       "       -6.79785868e+01, -1.52716605e+02,  8.22121949e+01,  2.05513604e+01,\n",
       "        8.21409638e+01, -2.50810517e+01,  1.96401956e+01, -3.02685180e+01,\n",
       "        2.47478927e+01, -3.58041418e+01, -7.38601715e+00,  1.10036164e+02,\n",
       "        5.92795632e+01, -1.62320032e+01, -1.11520938e+02,  1.15060683e+01,\n",
       "        4.51037495e+01, -7.98155500e+01, -1.77973836e+01,  8.24301423e+00,\n",
       "        2.76890774e+01,  3.36152850e+01,  5.63561287e+01, -8.16324398e+01,\n",
       "       -9.07884330e+01, -1.86821675e+01, -1.20118784e+02,  2.73342743e+01,\n",
       "       -2.54241022e+00, -1.12467365e+02,  6.90795033e+01, -2.45522204e+02,\n",
       "       -6.82586648e+01, -2.59064319e+01, -1.19972270e+02, -1.88881511e+02,\n",
       "       -1.18934475e+02,  3.47496962e+02,  2.66669600e+02,  3.52259263e+01,\n",
       "        1.36399001e+02, -1.61376092e+02, -1.20430252e+02,  8.89508071e+01,\n",
       "        7.85397449e+01,  2.97707824e+01,  3.71221242e+01, -1.26101685e+02,\n",
       "        4.36038573e+02, -1.47048855e+03, -1.80107875e+03, -5.32530650e+02,\n",
       "       -1.79223128e+03, -3.85051673e+02,  7.03436527e+02,  1.72737990e+01,\n",
       "       -1.13235689e+01,  3.93990443e+01,  6.92934998e+01,  1.91207662e+02,\n",
       "       -8.87131718e+01,  3.79111286e+02, -7.53468432e+02, -3.01385514e+02,\n",
       "       -6.66992323e+02, -1.32038829e+03,  5.07326982e+02, -1.28307190e+00,\n",
       "        1.17888732e+02,  4.10417036e+01,  1.08379526e+02, -6.60643210e+02,\n",
       "        4.24725082e+02, -3.50046909e+02, -2.56794551e+01])"
      ]
     },
     "execution_count": 69,
     "metadata": {},
     "output_type": "execute_result"
    }
   ],
   "source": [
    "lm.coef_"
   ]
  },
  {
   "cell_type": "code",
   "execution_count": 70,
   "metadata": {},
   "outputs": [
    {
     "data": {
      "text/html": [
       "<div>\n",
       "<style scoped>\n",
       "    .dataframe tbody tr th:only-of-type {\n",
       "        vertical-align: middle;\n",
       "    }\n",
       "\n",
       "    .dataframe tbody tr th {\n",
       "        vertical-align: top;\n",
       "    }\n",
       "\n",
       "    .dataframe thead th {\n",
       "        text-align: right;\n",
       "    }\n",
       "</style>\n",
       "<table border=\"1\" class=\"dataframe\">\n",
       "  <thead>\n",
       "    <tr style=\"text-align: right;\">\n",
       "      <th></th>\n",
       "      <th>lm_coef</th>\n",
       "    </tr>\n",
       "  </thead>\n",
       "  <tbody>\n",
       "    <tr>\n",
       "      <th>0</th>\n",
       "      <td>-1364.297</td>\n",
       "    </tr>\n",
       "    <tr>\n",
       "      <th>1</th>\n",
       "      <td>406.600</td>\n",
       "    </tr>\n",
       "    <tr>\n",
       "      <th>2</th>\n",
       "      <td>-1793.425</td>\n",
       "    </tr>\n",
       "    <tr>\n",
       "      <th>3</th>\n",
       "      <td>29.963</td>\n",
       "    </tr>\n",
       "    <tr>\n",
       "      <th>4</th>\n",
       "      <td>2539.899</td>\n",
       "    </tr>\n",
       "    <tr>\n",
       "      <th>...</th>\n",
       "      <td>...</td>\n",
       "    </tr>\n",
       "    <tr>\n",
       "      <th>126</th>\n",
       "      <td>108.380</td>\n",
       "    </tr>\n",
       "    <tr>\n",
       "      <th>127</th>\n",
       "      <td>-660.643</td>\n",
       "    </tr>\n",
       "    <tr>\n",
       "      <th>128</th>\n",
       "      <td>424.725</td>\n",
       "    </tr>\n",
       "    <tr>\n",
       "      <th>129</th>\n",
       "      <td>-350.047</td>\n",
       "    </tr>\n",
       "    <tr>\n",
       "      <th>130</th>\n",
       "      <td>-25.679</td>\n",
       "    </tr>\n",
       "  </tbody>\n",
       "</table>\n",
       "<p>131 rows × 1 columns</p>\n",
       "</div>"
      ],
      "text/plain": [
       "      lm_coef\n",
       "0   -1364.297\n",
       "1     406.600\n",
       "2   -1793.425\n",
       "3      29.963\n",
       "4    2539.899\n",
       "..        ...\n",
       "126   108.380\n",
       "127  -660.643\n",
       "128   424.725\n",
       "129  -350.047\n",
       "130   -25.679\n",
       "\n",
       "[131 rows x 1 columns]"
      ]
     },
     "execution_count": 70,
     "metadata": {},
     "output_type": "execute_result"
    }
   ],
   "source": [
    "lm_df = pd.DataFrame(lm.coef_, columns = [\"lm_coef\"])\n",
    "lm_df"
   ]
  },
  {
   "cell_type": "markdown",
   "metadata": {
    "id": "n2ROwYsymqZO"
   },
   "source": [
    "## 4. Implement Ridge Regression"
   ]
  },
  {
   "cell_type": "code",
   "execution_count": 71,
   "metadata": {},
   "outputs": [],
   "source": [
    "from sklearn.linear_model import Ridge"
   ]
  },
  {
   "cell_type": "code",
   "execution_count": 72,
   "metadata": {},
   "outputs": [],
   "source": [
    "ridge_model = Ridge(alpha=1, random_state=2)"
   ]
  },
  {
   "cell_type": "code",
   "execution_count": 73,
   "metadata": {},
   "outputs": [
    {
     "data": {
      "text/plain": [
       "Ridge(alpha=1, random_state=2)"
      ]
     },
     "execution_count": 73,
     "metadata": {},
     "output_type": "execute_result"
    }
   ],
   "source": [
    "ridge_model.fit(X_train_scaled, y_train)"
   ]
  },
  {
   "cell_type": "code",
   "execution_count": 74,
   "metadata": {},
   "outputs": [],
   "source": [
    "y_pred = ridge_model.predict(X_test_scaled)\n",
    "y_train_pred = ridge_model.predict(X_train_scaled)"
   ]
  },
  {
   "cell_type": "code",
   "execution_count": 75,
   "metadata": {},
   "outputs": [
    {
     "data": {
      "text/html": [
       "<div>\n",
       "<style scoped>\n",
       "    .dataframe tbody tr th:only-of-type {\n",
       "        vertical-align: middle;\n",
       "    }\n",
       "\n",
       "    .dataframe tbody tr th {\n",
       "        vertical-align: top;\n",
       "    }\n",
       "\n",
       "    .dataframe thead th {\n",
       "        text-align: right;\n",
       "    }\n",
       "</style>\n",
       "<table border=\"1\" class=\"dataframe\">\n",
       "  <thead>\n",
       "    <tr style=\"text-align: right;\">\n",
       "      <th></th>\n",
       "      <th>ridge_train</th>\n",
       "      <th>ridge_test</th>\n",
       "    </tr>\n",
       "  </thead>\n",
       "  <tbody>\n",
       "    <tr>\n",
       "      <th>R2</th>\n",
       "      <td>0.889</td>\n",
       "      <td>0.893</td>\n",
       "    </tr>\n",
       "    <tr>\n",
       "      <th>mae</th>\n",
       "      <td>1706.536</td>\n",
       "      <td>1714.310</td>\n",
       "    </tr>\n",
       "    <tr>\n",
       "      <th>mse</th>\n",
       "      <td>6055899.473</td>\n",
       "      <td>5793909.037</td>\n",
       "    </tr>\n",
       "    <tr>\n",
       "      <th>rmse</th>\n",
       "      <td>2460.874</td>\n",
       "      <td>2407.054</td>\n",
       "    </tr>\n",
       "  </tbody>\n",
       "</table>\n",
       "</div>"
      ],
      "text/plain": [
       "      ridge_train  ridge_test\n",
       "R2          0.889       0.893\n",
       "mae      1706.536    1714.310\n",
       "mse   6055899.473 5793909.037\n",
       "rmse     2460.874    2407.054"
      ]
     },
     "execution_count": 75,
     "metadata": {},
     "output_type": "execute_result"
    }
   ],
   "source": [
    "rs = train_val(y_train, y_train_pred, y_test, y_pred, \"ridge\")\n",
    "rs"
   ]
  },
  {
   "cell_type": "code",
   "execution_count": 76,
   "metadata": {},
   "outputs": [
    {
     "data": {
      "text/html": [
       "<div>\n",
       "<style scoped>\n",
       "    .dataframe tbody tr th:only-of-type {\n",
       "        vertical-align: middle;\n",
       "    }\n",
       "\n",
       "    .dataframe tbody tr th {\n",
       "        vertical-align: top;\n",
       "    }\n",
       "\n",
       "    .dataframe thead th {\n",
       "        text-align: right;\n",
       "    }\n",
       "</style>\n",
       "<table border=\"1\" class=\"dataframe\">\n",
       "  <thead>\n",
       "    <tr style=\"text-align: right;\">\n",
       "      <th></th>\n",
       "      <th>linear_train</th>\n",
       "      <th>linear_test</th>\n",
       "      <th>ridge_train</th>\n",
       "      <th>ridge_test</th>\n",
       "    </tr>\n",
       "  </thead>\n",
       "  <tbody>\n",
       "    <tr>\n",
       "      <th>R2</th>\n",
       "      <td>0.889</td>\n",
       "      <td>0.893</td>\n",
       "      <td>0.889</td>\n",
       "      <td>0.893</td>\n",
       "    </tr>\n",
       "    <tr>\n",
       "      <th>mae</th>\n",
       "      <td>1706.582</td>\n",
       "      <td>1714.381</td>\n",
       "      <td>1706.536</td>\n",
       "      <td>1714.310</td>\n",
       "    </tr>\n",
       "    <tr>\n",
       "      <th>mse</th>\n",
       "      <td>6055898.162</td>\n",
       "      <td>5794204.675</td>\n",
       "      <td>6055899.473</td>\n",
       "      <td>5793909.037</td>\n",
       "    </tr>\n",
       "    <tr>\n",
       "      <th>rmse</th>\n",
       "      <td>2460.873</td>\n",
       "      <td>2407.115</td>\n",
       "      <td>2460.874</td>\n",
       "      <td>2407.054</td>\n",
       "    </tr>\n",
       "  </tbody>\n",
       "</table>\n",
       "</div>"
      ],
      "text/plain": [
       "      linear_train  linear_test  ridge_train  ridge_test\n",
       "R2           0.889        0.893        0.889       0.893\n",
       "mae       1706.582     1714.381     1706.536    1714.310\n",
       "mse    6055898.162  5794204.675  6055899.473 5793909.037\n",
       "rmse      2460.873     2407.115     2460.874    2407.054"
      ]
     },
     "execution_count": 76,
     "metadata": {},
     "output_type": "execute_result"
    }
   ],
   "source": [
    "pd.concat([ls, rs], axis=1)"
   ]
  },
  {
   "cell_type": "markdown",
   "metadata": {},
   "source": [
    "## For Ridge Regression CV with alpha : 1 "
   ]
  },
  {
   "cell_type": "code",
   "execution_count": 77,
   "metadata": {},
   "outputs": [],
   "source": [
    "model = Ridge(alpha=1, random_state=42)\n",
    "scores = cross_validate(model, X_train_scaled, y_train,\n",
    "                    scoring=['r2', 'neg_mean_absolute_error','neg_mean_squared_error','neg_root_mean_squared_error'], cv=5)"
   ]
  },
  {
   "cell_type": "code",
   "execution_count": 78,
   "metadata": {},
   "outputs": [
    {
     "data": {
      "text/html": [
       "<div>\n",
       "<style scoped>\n",
       "    .dataframe tbody tr th:only-of-type {\n",
       "        vertical-align: middle;\n",
       "    }\n",
       "\n",
       "    .dataframe tbody tr th {\n",
       "        vertical-align: top;\n",
       "    }\n",
       "\n",
       "    .dataframe thead th {\n",
       "        text-align: right;\n",
       "    }\n",
       "</style>\n",
       "<table border=\"1\" class=\"dataframe\">\n",
       "  <thead>\n",
       "    <tr style=\"text-align: right;\">\n",
       "      <th></th>\n",
       "      <th>fit_time</th>\n",
       "      <th>score_time</th>\n",
       "      <th>test_r2</th>\n",
       "      <th>test_neg_mean_absolute_error</th>\n",
       "      <th>test_neg_mean_squared_error</th>\n",
       "      <th>test_neg_root_mean_squared_error</th>\n",
       "    </tr>\n",
       "  </thead>\n",
       "  <tbody>\n",
       "    <tr>\n",
       "      <th>1</th>\n",
       "      <td>0.031</td>\n",
       "      <td>0.005</td>\n",
       "      <td>0.886</td>\n",
       "      <td>-1718.812</td>\n",
       "      <td>-6229590.734</td>\n",
       "      <td>-2495.915</td>\n",
       "    </tr>\n",
       "    <tr>\n",
       "      <th>2</th>\n",
       "      <td>0.049</td>\n",
       "      <td>0.004</td>\n",
       "      <td>0.873</td>\n",
       "      <td>-1788.189</td>\n",
       "      <td>-7455305.314</td>\n",
       "      <td>-2730.440</td>\n",
       "    </tr>\n",
       "    <tr>\n",
       "      <th>3</th>\n",
       "      <td>0.042</td>\n",
       "      <td>0.005</td>\n",
       "      <td>0.889</td>\n",
       "      <td>-1750.805</td>\n",
       "      <td>-6016565.363</td>\n",
       "      <td>-2452.869</td>\n",
       "    </tr>\n",
       "    <tr>\n",
       "      <th>4</th>\n",
       "      <td>0.039</td>\n",
       "      <td>0.004</td>\n",
       "      <td>0.888</td>\n",
       "      <td>-1733.971</td>\n",
       "      <td>-6231141.999</td>\n",
       "      <td>-2496.226</td>\n",
       "    </tr>\n",
       "    <tr>\n",
       "      <th>5</th>\n",
       "      <td>0.036</td>\n",
       "      <td>0.005</td>\n",
       "      <td>0.889</td>\n",
       "      <td>-1675.436</td>\n",
       "      <td>-5518347.204</td>\n",
       "      <td>-2349.116</td>\n",
       "    </tr>\n",
       "  </tbody>\n",
       "</table>\n",
       "</div>"
      ],
      "text/plain": [
       "   fit_time  score_time  test_r2  test_neg_mean_absolute_error  \\\n",
       "1     0.031       0.005    0.886                     -1718.812   \n",
       "2     0.049       0.004    0.873                     -1788.189   \n",
       "3     0.042       0.005    0.889                     -1750.805   \n",
       "4     0.039       0.004    0.888                     -1733.971   \n",
       "5     0.036       0.005    0.889                     -1675.436   \n",
       "\n",
       "   test_neg_mean_squared_error  test_neg_root_mean_squared_error  \n",
       "1                 -6229590.734                         -2495.915  \n",
       "2                 -7455305.314                         -2730.440  \n",
       "3                 -6016565.363                         -2452.869  \n",
       "4                 -6231141.999                         -2496.226  \n",
       "5                 -5518347.204                         -2349.116  "
      ]
     },
     "execution_count": 78,
     "metadata": {},
     "output_type": "execute_result"
    }
   ],
   "source": [
    "pd.DataFrame(scores, index = range(1, 6))"
   ]
  },
  {
   "cell_type": "code",
   "execution_count": 79,
   "metadata": {},
   "outputs": [
    {
     "data": {
      "text/plain": [
       "test_r2                                   0.885\n",
       "test_neg_mean_absolute_error          -1733.443\n",
       "test_neg_mean_squared_error        -6290190.123\n",
       "test_neg_root_mean_squared_error      -2504.913\n",
       "dtype: float64"
      ]
     },
     "execution_count": 79,
     "metadata": {},
     "output_type": "execute_result"
    }
   ],
   "source": [
    "scores = pd.DataFrame(scores, index = range(1, 6))\n",
    "scores.iloc[:,2:].mean()"
   ]
  },
  {
   "cell_type": "code",
   "execution_count": 80,
   "metadata": {},
   "outputs": [
    {
     "data": {
      "text/html": [
       "<div>\n",
       "<style scoped>\n",
       "    .dataframe tbody tr th:only-of-type {\n",
       "        vertical-align: middle;\n",
       "    }\n",
       "\n",
       "    .dataframe tbody tr th {\n",
       "        vertical-align: top;\n",
       "    }\n",
       "\n",
       "    .dataframe thead th {\n",
       "        text-align: right;\n",
       "    }\n",
       "</style>\n",
       "<table border=\"1\" class=\"dataframe\">\n",
       "  <thead>\n",
       "    <tr style=\"text-align: right;\">\n",
       "      <th></th>\n",
       "      <th>ridge_train</th>\n",
       "      <th>ridge_test</th>\n",
       "    </tr>\n",
       "  </thead>\n",
       "  <tbody>\n",
       "    <tr>\n",
       "      <th>R2</th>\n",
       "      <td>0.889</td>\n",
       "      <td>0.893</td>\n",
       "    </tr>\n",
       "    <tr>\n",
       "      <th>mae</th>\n",
       "      <td>1706.536</td>\n",
       "      <td>1714.310</td>\n",
       "    </tr>\n",
       "    <tr>\n",
       "      <th>mse</th>\n",
       "      <td>6055899.473</td>\n",
       "      <td>5793909.037</td>\n",
       "    </tr>\n",
       "    <tr>\n",
       "      <th>rmse</th>\n",
       "      <td>2460.874</td>\n",
       "      <td>2407.054</td>\n",
       "    </tr>\n",
       "  </tbody>\n",
       "</table>\n",
       "</div>"
      ],
      "text/plain": [
       "      ridge_train  ridge_test\n",
       "R2          0.889       0.893\n",
       "mae      1706.536    1714.310\n",
       "mse   6055899.473 5793909.037\n",
       "rmse     2460.874    2407.054"
      ]
     },
     "execution_count": 80,
     "metadata": {},
     "output_type": "execute_result"
    }
   ],
   "source": [
    "train_val(y_train, y_train_pred, y_test, y_pred, \"ridge\")"
   ]
  },
  {
   "cell_type": "code",
   "execution_count": 81,
   "metadata": {},
   "outputs": [
    {
     "data": {
      "text/plain": [
       "<AxesSubplot:>"
      ]
     },
     "execution_count": 81,
     "metadata": {},
     "output_type": "execute_result"
    },
    {
     "data": {
      "image/png": "[encoded data removed]",
      "text/plain": [
       "<Figure size 720x432 with 1 Axes>"
      ]
     },
     "metadata": {
      "needs_background": "light"
     },
     "output_type": "display_data"
    }
   ],
   "source": [
    "sns.lineplot(data = scores.iloc[:,2:])"
   ]
  },
  {
   "cell_type": "code",
   "execution_count": 84,
   "metadata": {},
   "outputs": [],
   "source": [
    "rm_df = pd.DataFrame(ridge_model.coef_, columns = [\"ridge_coef_1\"])"
   ]
  },
  {
   "cell_type": "code",
   "execution_count": 85,
   "metadata": {},
   "outputs": [
    {
     "data": {
      "text/plain": [
       "array([-1.36422993e+03,  4.06890709e+02, -1.79330737e+03,  2.98474594e+01,\n",
       "        2.53860950e+03, -8.56319740e+01, -1.71219912e+02, -2.22798594e+02,\n",
       "        6.11228455e+02, -7.01003571e+02,  6.98906760e+01,  3.76738592e+01,\n",
       "       -4.06805229e+00,  1.23155531e+02, -1.28613412e+01,  1.69980405e+02,\n",
       "       -1.26457041e+01, -3.91557211e+01,  6.31730065e+01,  7.06165468e+01,\n",
       "        1.02062086e+02,  4.42808301e+02,  1.15259798e+02,  5.64772035e+01,\n",
       "        2.84935431e+01, -6.43031788e+01,  5.85176828e+01,  6.81835815e+01,\n",
       "       -1.60087879e+02,  9.26596280e+01,  3.17490203e+01,  1.62706294e+02,\n",
       "       -2.04639685e+01,  3.03353655e+02,  2.44038010e+01,  2.13436276e+02,\n",
       "        1.02042193e+02, -2.79218862e+02,  5.35561990e+01, -9.39829907e+01,\n",
       "        6.40595864e+01,  2.03513006e+02, -7.79712289e+01, -4.18617582e+01,\n",
       "        1.27245166e+02, -4.41204023e+00, -3.84961736e+01,  9.13757034e+00,\n",
       "       -2.16961847e+02,  4.57464554e+00,  2.50389183e+02,  4.97053438e+01,\n",
       "        2.50598639e+01,  5.34587415e+00,  5.24348778e+01, -1.08041549e+02,\n",
       "       -6.79988828e+01, -1.52825221e+02,  8.22695539e+01,  2.05912405e+01,\n",
       "        8.21659353e+01, -2.50982280e+01,  1.96344120e+01, -3.03429881e+01,\n",
       "        2.48356315e+01, -3.58399849e+01, -7.39271130e+00,  1.10081138e+02,\n",
       "        5.92856973e+01, -1.61237483e+01, -1.11563533e+02,  1.14216653e+01,\n",
       "        4.51095573e+01, -7.97163892e+01, -1.77965891e+01,  8.13544431e+00,\n",
       "        2.76494265e+01,  3.35995673e+01,  5.63390647e+01, -8.15773360e+01,\n",
       "       -9.07999137e+01, -1.87309291e+01, -1.20099528e+02,  2.73337018e+01,\n",
       "       -2.59484310e+00, -1.12394794e+02,  6.91459164e+01, -2.45475761e+02,\n",
       "       -6.83635606e+01, -2.58737569e+01, -1.19915713e+02, -1.88939911e+02,\n",
       "       -1.19078128e+02,  3.47551354e+02,  2.66811052e+02,  3.52198840e+01,\n",
       "        1.36394039e+02, -1.61338248e+02, -1.20495893e+02,  8.90217077e+01,\n",
       "        7.84462830e+01,  2.97846086e+01,  3.70428895e+01, -1.25914844e+02,\n",
       "        4.36476802e+02, -1.46925480e+03, -1.80032578e+03, -5.31444566e+02,\n",
       "       -1.79104840e+03, -3.85282013e+02,  7.04023266e+02,  1.72872993e+01,\n",
       "       -1.13201327e+01,  3.93183495e+01,  6.92345570e+01,  1.91016728e+02,\n",
       "       -8.87222380e+01,  3.79235946e+02, -7.52883531e+02, -3.00747548e+02,\n",
       "       -6.66358390e+02, -1.31952064e+03,  5.05683106e+02, -1.32526262e+00,\n",
       "        1.17858114e+02,  4.10365702e+01,  1.08409738e+02, -6.60644811e+02,\n",
       "        4.24717455e+02, -3.50074986e+02, -2.56843253e+01])"
      ]
     },
     "execution_count": 85,
     "metadata": {},
     "output_type": "execute_result"
    }
   ],
   "source": [
    "ridge_model.coef_"
   ]
  },
  {
   "cell_type": "code",
   "execution_count": 86,
   "metadata": {},
   "outputs": [
    {
     "data": {
      "text/html": [
       "<div>\n",
       "<style scoped>\n",
       "    .dataframe tbody tr th:only-of-type {\n",
       "        vertical-align: middle;\n",
       "    }\n",
       "\n",
       "    .dataframe tbody tr th {\n",
       "        vertical-align: top;\n",
       "    }\n",
       "\n",
       "    .dataframe thead th {\n",
       "        text-align: right;\n",
       "    }\n",
       "</style>\n",
       "<table border=\"1\" class=\"dataframe\">\n",
       "  <thead>\n",
       "    <tr style=\"text-align: right;\">\n",
       "      <th></th>\n",
       "      <th>lm_coef</th>\n",
       "      <th>ridge_coef_1</th>\n",
       "    </tr>\n",
       "  </thead>\n",
       "  <tbody>\n",
       "    <tr>\n",
       "      <th>0</th>\n",
       "      <td>-1364.297</td>\n",
       "      <td>-1364.230</td>\n",
       "    </tr>\n",
       "    <tr>\n",
       "      <th>1</th>\n",
       "      <td>406.600</td>\n",
       "      <td>406.891</td>\n",
       "    </tr>\n",
       "    <tr>\n",
       "      <th>2</th>\n",
       "      <td>-1793.425</td>\n",
       "      <td>-1793.307</td>\n",
       "    </tr>\n",
       "    <tr>\n",
       "      <th>3</th>\n",
       "      <td>29.963</td>\n",
       "      <td>29.847</td>\n",
       "    </tr>\n",
       "    <tr>\n",
       "      <th>4</th>\n",
       "      <td>2539.899</td>\n",
       "      <td>2538.609</td>\n",
       "    </tr>\n",
       "    <tr>\n",
       "      <th>...</th>\n",
       "      <td>...</td>\n",
       "      <td>...</td>\n",
       "    </tr>\n",
       "    <tr>\n",
       "      <th>126</th>\n",
       "      <td>108.380</td>\n",
       "      <td>108.410</td>\n",
       "    </tr>\n",
       "    <tr>\n",
       "      <th>127</th>\n",
       "      <td>-660.643</td>\n",
       "      <td>-660.645</td>\n",
       "    </tr>\n",
       "    <tr>\n",
       "      <th>128</th>\n",
       "      <td>424.725</td>\n",
       "      <td>424.717</td>\n",
       "    </tr>\n",
       "    <tr>\n",
       "      <th>129</th>\n",
       "      <td>-350.047</td>\n",
       "      <td>-350.075</td>\n",
       "    </tr>\n",
       "    <tr>\n",
       "      <th>130</th>\n",
       "      <td>-25.679</td>\n",
       "      <td>-25.684</td>\n",
       "    </tr>\n",
       "  </tbody>\n",
       "</table>\n",
       "<p>131 rows × 2 columns</p>\n",
       "</div>"
      ],
      "text/plain": [
       "      lm_coef  ridge_coef_1\n",
       "0   -1364.297     -1364.230\n",
       "1     406.600       406.891\n",
       "2   -1793.425     -1793.307\n",
       "3      29.963        29.847\n",
       "4    2539.899      2538.609\n",
       "..        ...           ...\n",
       "126   108.380       108.410\n",
       "127  -660.643      -660.645\n",
       "128   424.725       424.717\n",
       "129  -350.047      -350.075\n",
       "130   -25.679       -25.684\n",
       "\n",
       "[131 rows x 2 columns]"
      ]
     },
     "execution_count": 86,
     "metadata": {},
     "output_type": "execute_result"
    }
   ],
   "source": [
    "pd.concat([lm_df,rm_df], axis = 1)"
   ]
  },
  {
   "cell_type": "markdown",
   "metadata": {},
   "source": [
    "- Import the modul \n",
    "- Do not forget to scale the data or use Normalize parameter as True \n",
    "- Fit the model \n",
    "- Predict the test set \n",
    "- Evaluate model performance (use performance metrics for regression) \n",
    "- Tune alpha hiperparameter by using [cross validation](https://scikit-learn.org/stable/modules/generated/sklearn.linear_model.RidgeCV.html) and determine the optimal alpha value.\n",
    "- Fit the model and predict again with the new alpha value. "
   ]
  },
  {
   "cell_type": "markdown",
   "metadata": {},
   "source": [
    "## Choosing best alpha value with Cross-Validation"
   ]
  },
  {
   "cell_type": "code",
   "execution_count": 93,
   "metadata": {},
   "outputs": [],
   "source": [
    "from sklearn.linear_model import RidgeCV"
   ]
  },
  {
   "cell_type": "code",
   "execution_count": 94,
   "metadata": {},
   "outputs": [
    {
     "data": {
      "text/plain": [
       "array([0.01, 0.02, 0.03, 0.04, 0.05, 0.06, 0.07, 0.08, 0.09, 0.1 , 0.11,\n",
       "       0.12, 0.13, 0.14, 0.15, 0.16, 0.17, 0.18, 0.19, 0.2 , 0.21, 0.22,\n",
       "       0.23, 0.24, 0.25, 0.26, 0.27, 0.28, 0.29, 0.3 , 0.31, 0.32, 0.33,\n",
       "       0.34, 0.35, 0.36, 0.37, 0.38, 0.39, 0.4 , 0.41, 0.42, 0.43, 0.44,\n",
       "       0.45, 0.46, 0.47, 0.48, 0.49, 0.5 , 0.51, 0.52, 0.53, 0.54, 0.55,\n",
       "       0.56, 0.57, 0.58, 0.59, 0.6 , 0.61, 0.62, 0.63, 0.64, 0.65, 0.66,\n",
       "       0.67, 0.68, 0.69, 0.7 , 0.71, 0.72, 0.73, 0.74, 0.75, 0.76, 0.77,\n",
       "       0.78, 0.79, 0.8 , 0.81, 0.82, 0.83, 0.84, 0.85, 0.86, 0.87, 0.88,\n",
       "       0.89, 0.9 , 0.91, 0.92, 0.93, 0.94, 0.95, 0.96, 0.97, 0.98, 0.99,\n",
       "       1.  ])"
      ]
     },
     "execution_count": 94,
     "metadata": {},
     "output_type": "execute_result"
    }
   ],
   "source": [
    "alpha_space = np.linspace(0.01, 1, 100)\n",
    "alpha_space"
   ]
  },
  {
   "cell_type": "code",
   "execution_count": 95,
   "metadata": {},
   "outputs": [],
   "source": [
    "ridge_cv_model = RidgeCV(alphas=alpha_space, cv = 5, scoring= \"neg_root_mean_squared_error\")"
   ]
  },
  {
   "cell_type": "code",
   "execution_count": 99,
   "metadata": {},
   "outputs": [
    {
     "data": {
      "text/plain": [
       "RidgeCV(alphas=array([0.01, 0.02, 0.03, 0.04, 0.05, 0.06, 0.07, 0.08, 0.09, 0.1 , 0.11,\n",
       "       0.12, 0.13, 0.14, 0.15, 0.16, 0.17, 0.18, 0.19, 0.2 , 0.21, 0.22,\n",
       "       0.23, 0.24, 0.25, 0.26, 0.27, 0.28, 0.29, 0.3 , 0.31, 0.32, 0.33,\n",
       "       0.34, 0.35, 0.36, 0.37, 0.38, 0.39, 0.4 , 0.41, 0.42, 0.43, 0.44,\n",
       "       0.45, 0.46, 0.47, 0.48, 0.49, 0.5 , 0.51, 0.52, 0.53, 0.54, 0.55,\n",
       "       0.56, 0.57, 0.58, 0.59, 0.6 , 0.61, 0.62, 0.63, 0.64, 0.65, 0.66,\n",
       "       0.67, 0.68, 0.69, 0.7 , 0.71, 0.72, 0.73, 0.74, 0.75, 0.76, 0.77,\n",
       "       0.78, 0.79, 0.8 , 0.81, 0.82, 0.83, 0.84, 0.85, 0.86, 0.87, 0.88,\n",
       "       0.89, 0.9 , 0.91, 0.92, 0.93, 0.94, 0.95, 0.96, 0.97, 0.98, 0.99,\n",
       "       1.  ]),\n",
       "        cv=5, scoring='neg_root_mean_squared_error')"
      ]
     },
     "execution_count": 99,
     "metadata": {},
     "output_type": "execute_result"
    }
   ],
   "source": [
    "ridge_cv_model.fit(X_train_scaled, y_train)"
   ]
  },
  {
   "cell_type": "code",
   "execution_count": 100,
   "metadata": {},
   "outputs": [
    {
     "data": {
      "text/plain": [
       "1.0"
      ]
     },
     "execution_count": 100,
     "metadata": {},
     "output_type": "execute_result"
    }
   ],
   "source": [
    "ridge_cv_model.alpha_"
   ]
  },
  {
   "cell_type": "code",
   "execution_count": 101,
   "metadata": {},
   "outputs": [
    {
     "data": {
      "text/plain": [
       "-2504.913184140977"
      ]
     },
     "execution_count": 101,
     "metadata": {},
     "output_type": "execute_result"
    }
   ],
   "source": [
    "ridge_cv_model.best_score_"
   ]
  },
  {
   "cell_type": "code",
   "execution_count": 102,
   "metadata": {},
   "outputs": [],
   "source": [
    "y_pred = ridge_cv_model.predict(X_test_scaled)\n",
    "y_train_pred = ridge_cv_model.predict(X_train_scaled)"
   ]
  },
  {
   "cell_type": "code",
   "execution_count": 103,
   "metadata": {},
   "outputs": [
    {
     "data": {
      "text/html": [
       "<div>\n",
       "<style scoped>\n",
       "    .dataframe tbody tr th:only-of-type {\n",
       "        vertical-align: middle;\n",
       "    }\n",
       "\n",
       "    .dataframe tbody tr th {\n",
       "        vertical-align: top;\n",
       "    }\n",
       "\n",
       "    .dataframe thead th {\n",
       "        text-align: right;\n",
       "    }\n",
       "</style>\n",
       "<table border=\"1\" class=\"dataframe\">\n",
       "  <thead>\n",
       "    <tr style=\"text-align: right;\">\n",
       "      <th></th>\n",
       "      <th>ridge_cv_train</th>\n",
       "      <th>ridge_cv_test</th>\n",
       "    </tr>\n",
       "  </thead>\n",
       "  <tbody>\n",
       "    <tr>\n",
       "      <th>R2</th>\n",
       "      <td>0.889</td>\n",
       "      <td>0.893</td>\n",
       "    </tr>\n",
       "    <tr>\n",
       "      <th>mae</th>\n",
       "      <td>1706.536</td>\n",
       "      <td>1714.310</td>\n",
       "    </tr>\n",
       "    <tr>\n",
       "      <th>mse</th>\n",
       "      <td>6055899.473</td>\n",
       "      <td>5793909.037</td>\n",
       "    </tr>\n",
       "    <tr>\n",
       "      <th>rmse</th>\n",
       "      <td>2460.874</td>\n",
       "      <td>2407.054</td>\n",
       "    </tr>\n",
       "  </tbody>\n",
       "</table>\n",
       "</div>"
      ],
      "text/plain": [
       "      ridge_cv_train  ridge_cv_test\n",
       "R2             0.889          0.893\n",
       "mae         1706.536       1714.310\n",
       "mse      6055899.473    5793909.037\n",
       "rmse        2460.874       2407.054"
      ]
     },
     "execution_count": 103,
     "metadata": {},
     "output_type": "execute_result"
    }
   ],
   "source": [
    "rcs = train_val(y_train, y_train_pred, y_test, y_pred, \"ridge_cv\")\n",
    "rcs"
   ]
  },
  {
   "cell_type": "code",
   "execution_count": 104,
   "metadata": {},
   "outputs": [
    {
     "data": {
      "text/html": [
       "<div>\n",
       "<style scoped>\n",
       "    .dataframe tbody tr th:only-of-type {\n",
       "        vertical-align: middle;\n",
       "    }\n",
       "\n",
       "    .dataframe tbody tr th {\n",
       "        vertical-align: top;\n",
       "    }\n",
       "\n",
       "    .dataframe thead th {\n",
       "        text-align: right;\n",
       "    }\n",
       "</style>\n",
       "<table border=\"1\" class=\"dataframe\">\n",
       "  <thead>\n",
       "    <tr style=\"text-align: right;\">\n",
       "      <th></th>\n",
       "      <th>linear_train</th>\n",
       "      <th>linear_test</th>\n",
       "      <th>ridge_train</th>\n",
       "      <th>ridge_test</th>\n",
       "      <th>ridge_cv_train</th>\n",
       "      <th>ridge_cv_test</th>\n",
       "    </tr>\n",
       "  </thead>\n",
       "  <tbody>\n",
       "    <tr>\n",
       "      <th>R2</th>\n",
       "      <td>0.889</td>\n",
       "      <td>0.893</td>\n",
       "      <td>0.889</td>\n",
       "      <td>0.893</td>\n",
       "      <td>0.889</td>\n",
       "      <td>0.893</td>\n",
       "    </tr>\n",
       "    <tr>\n",
       "      <th>mae</th>\n",
       "      <td>1706.582</td>\n",
       "      <td>1714.381</td>\n",
       "      <td>1706.536</td>\n",
       "      <td>1714.310</td>\n",
       "      <td>1706.536</td>\n",
       "      <td>1714.310</td>\n",
       "    </tr>\n",
       "    <tr>\n",
       "      <th>mse</th>\n",
       "      <td>6055898.162</td>\n",
       "      <td>5794204.675</td>\n",
       "      <td>6055899.473</td>\n",
       "      <td>5793909.037</td>\n",
       "      <td>6055899.473</td>\n",
       "      <td>5793909.037</td>\n",
       "    </tr>\n",
       "    <tr>\n",
       "      <th>rmse</th>\n",
       "      <td>2460.873</td>\n",
       "      <td>2407.115</td>\n",
       "      <td>2460.874</td>\n",
       "      <td>2407.054</td>\n",
       "      <td>2460.874</td>\n",
       "      <td>2407.054</td>\n",
       "    </tr>\n",
       "  </tbody>\n",
       "</table>\n",
       "</div>"
      ],
      "text/plain": [
       "      linear_train  linear_test  ridge_train  ridge_test  ridge_cv_train  \\\n",
       "R2           0.889        0.893        0.889       0.893           0.889   \n",
       "mae       1706.582     1714.381     1706.536    1714.310        1706.536   \n",
       "mse    6055898.162  5794204.675  6055899.473 5793909.037     6055899.473   \n",
       "rmse      2460.873     2407.115     2460.874    2407.054        2460.874   \n",
       "\n",
       "      ridge_cv_test  \n",
       "R2            0.893  \n",
       "mae        1714.310  \n",
       "mse     5793909.037  \n",
       "rmse       2407.054  "
      ]
     },
     "execution_count": 104,
     "metadata": {},
     "output_type": "execute_result"
    }
   ],
   "source": [
    "pd.concat([ls, rs, rcs], axis = 1)"
   ]
  },
  {
   "cell_type": "markdown",
   "metadata": {
    "id": "oDfXOSnpmqZO"
   },
   "source": [
    "## 5. Implement Lasso Regression"
   ]
  },
  {
   "cell_type": "markdown",
   "metadata": {
    "id": "icqyxzBymqZO"
   },
   "source": [
    "- Import the modul \n",
    "- Do not forget to scale the data or use Normalize parameter as True(If needed)\n",
    "- Fit the model \n",
    "- Predict the test set \n",
    "- Evaluate model performance (use performance metrics for regression) \n",
    "- Tune alpha hyperparameter by using [cross validation](https://scikit-learn.org/stable/modules/generated/sklearn.linear_model.LassoCV.html) and determine the optimal alpha value.\n",
    "- Fit the model and predict again with the new alpha value.\n",
    "- Compare different evaluation metrics\n",
    "\n",
    "*Note: To understand the importance of the alpha hyperparameter, you can observe the effects of different alpha values on feature coefficants.*"
   ]
  },
  {
   "cell_type": "code",
   "execution_count": 105,
   "metadata": {
    "id": "KbGqu0u5mqZO"
   },
   "outputs": [],
   "source": [
    "from sklearn.linear_model import Lasso, LassoCV"
   ]
  },
  {
   "cell_type": "code",
   "execution_count": 106,
   "metadata": {},
   "outputs": [
    {
     "data": {
      "text/plain": [
       "Lasso(alpha=1, random_state=42)"
      ]
     },
     "execution_count": 106,
     "metadata": {},
     "output_type": "execute_result"
    }
   ],
   "source": [
    "lasso_model = Lasso(alpha=1, random_state=42)\n",
    "lasso_model.fit(X_train_scaled, y_train)"
   ]
  },
  {
   "cell_type": "code",
   "execution_count": 107,
   "metadata": {},
   "outputs": [],
   "source": [
    "y_pred = lasso_model.predict(X_test_scaled)\n",
    "y_train_pred = lasso_model.predict(X_train_scaled)"
   ]
  },
  {
   "cell_type": "code",
   "execution_count": 108,
   "metadata": {},
   "outputs": [
    {
     "data": {
      "text/html": [
       "<div>\n",
       "<style scoped>\n",
       "    .dataframe tbody tr th:only-of-type {\n",
       "        vertical-align: middle;\n",
       "    }\n",
       "\n",
       "    .dataframe tbody tr th {\n",
       "        vertical-align: top;\n",
       "    }\n",
       "\n",
       "    .dataframe thead th {\n",
       "        text-align: right;\n",
       "    }\n",
       "</style>\n",
       "<table border=\"1\" class=\"dataframe\">\n",
       "  <thead>\n",
       "    <tr style=\"text-align: right;\">\n",
       "      <th></th>\n",
       "      <th>lasso_train</th>\n",
       "      <th>lasso_test</th>\n",
       "    </tr>\n",
       "  </thead>\n",
       "  <tbody>\n",
       "    <tr>\n",
       "      <th>R2</th>\n",
       "      <td>0.889</td>\n",
       "      <td>0.893</td>\n",
       "    </tr>\n",
       "    <tr>\n",
       "      <th>mae</th>\n",
       "      <td>1706.020</td>\n",
       "      <td>1713.023</td>\n",
       "    </tr>\n",
       "    <tr>\n",
       "      <th>mse</th>\n",
       "      <td>6056283.058</td>\n",
       "      <td>5785855.799</td>\n",
       "    </tr>\n",
       "    <tr>\n",
       "      <th>rmse</th>\n",
       "      <td>2460.952</td>\n",
       "      <td>2405.381</td>\n",
       "    </tr>\n",
       "  </tbody>\n",
       "</table>\n",
       "</div>"
      ],
      "text/plain": [
       "      lasso_train  lasso_test\n",
       "R2          0.889       0.893\n",
       "mae      1706.020    1713.023\n",
       "mse   6056283.058 5785855.799\n",
       "rmse     2460.952    2405.381"
      ]
     },
     "execution_count": 108,
     "metadata": {},
     "output_type": "execute_result"
    }
   ],
   "source": [
    "lss = train_val(y_train, y_train_pred, y_test, y_pred, \"lasso\")\n",
    "lss"
   ]
  },
  {
   "cell_type": "code",
   "execution_count": 109,
   "metadata": {},
   "outputs": [
    {
     "data": {
      "text/html": [
       "<div>\n",
       "<style scoped>\n",
       "    .dataframe tbody tr th:only-of-type {\n",
       "        vertical-align: middle;\n",
       "    }\n",
       "\n",
       "    .dataframe tbody tr th {\n",
       "        vertical-align: top;\n",
       "    }\n",
       "\n",
       "    .dataframe thead th {\n",
       "        text-align: right;\n",
       "    }\n",
       "</style>\n",
       "<table border=\"1\" class=\"dataframe\">\n",
       "  <thead>\n",
       "    <tr style=\"text-align: right;\">\n",
       "      <th></th>\n",
       "      <th>linear_train</th>\n",
       "      <th>linear_test</th>\n",
       "      <th>ridge_train</th>\n",
       "      <th>ridge_test</th>\n",
       "      <th>ridge_cv_train</th>\n",
       "      <th>ridge_cv_test</th>\n",
       "      <th>lasso_train</th>\n",
       "      <th>lasso_test</th>\n",
       "    </tr>\n",
       "  </thead>\n",
       "  <tbody>\n",
       "    <tr>\n",
       "      <th>R2</th>\n",
       "      <td>0.889</td>\n",
       "      <td>0.893</td>\n",
       "      <td>0.889</td>\n",
       "      <td>0.893</td>\n",
       "      <td>0.889</td>\n",
       "      <td>0.893</td>\n",
       "      <td>0.889</td>\n",
       "      <td>0.893</td>\n",
       "    </tr>\n",
       "    <tr>\n",
       "      <th>mae</th>\n",
       "      <td>1706.582</td>\n",
       "      <td>1714.381</td>\n",
       "      <td>1706.536</td>\n",
       "      <td>1714.310</td>\n",
       "      <td>1706.536</td>\n",
       "      <td>1714.310</td>\n",
       "      <td>1706.020</td>\n",
       "      <td>1713.023</td>\n",
       "    </tr>\n",
       "    <tr>\n",
       "      <th>mse</th>\n",
       "      <td>6055898.162</td>\n",
       "      <td>5794204.675</td>\n",
       "      <td>6055899.473</td>\n",
       "      <td>5793909.037</td>\n",
       "      <td>6055899.473</td>\n",
       "      <td>5793909.037</td>\n",
       "      <td>6056283.058</td>\n",
       "      <td>5785855.799</td>\n",
       "    </tr>\n",
       "    <tr>\n",
       "      <th>rmse</th>\n",
       "      <td>2460.873</td>\n",
       "      <td>2407.115</td>\n",
       "      <td>2460.874</td>\n",
       "      <td>2407.054</td>\n",
       "      <td>2460.874</td>\n",
       "      <td>2407.054</td>\n",
       "      <td>2460.952</td>\n",
       "      <td>2405.381</td>\n",
       "    </tr>\n",
       "  </tbody>\n",
       "</table>\n",
       "</div>"
      ],
      "text/plain": [
       "      linear_train  linear_test  ridge_train  ridge_test  ridge_cv_train  \\\n",
       "R2           0.889        0.893        0.889       0.893           0.889   \n",
       "mae       1706.582     1714.381     1706.536    1714.310        1706.536   \n",
       "mse    6055898.162  5794204.675  6055899.473 5793909.037     6055899.473   \n",
       "rmse      2460.873     2407.115     2460.874    2407.054        2460.874   \n",
       "\n",
       "      ridge_cv_test  lasso_train  lasso_test  \n",
       "R2            0.893        0.889       0.893  \n",
       "mae        1714.310     1706.020    1713.023  \n",
       "mse     5793909.037  6056283.058 5785855.799  \n",
       "rmse       2407.054     2460.952    2405.381  "
      ]
     },
     "execution_count": 109,
     "metadata": {},
     "output_type": "execute_result"
    }
   ],
   "source": [
    "pd.concat([ls, rs, rcs, lss], axis = 1)"
   ]
  },
  {
   "cell_type": "code",
   "execution_count": 118,
   "metadata": {},
   "outputs": [],
   "source": [
    "rcm_df = pd.DataFrame(ridge_cv_model.coef_, columns=[\"ridge_cv_coef_0.02\"])"
   ]
  },
  {
   "cell_type": "markdown",
   "metadata": {},
   "source": [
    "## For Lasso CV with Default Alpha : 1"
   ]
  },
  {
   "cell_type": "code",
   "execution_count": 111,
   "metadata": {},
   "outputs": [],
   "source": [
    "model = Lasso(alpha=1, random_state=2)\n",
    "scores = cross_validate(model, X_train_scaled, y_train,\n",
    "                        scoring=['r2', 'neg_mean_absolute_error','neg_mean_squared_error','neg_root_mean_squared_error'], cv=5)"
   ]
  },
  {
   "cell_type": "code",
   "execution_count": 112,
   "metadata": {},
   "outputs": [
    {
     "data": {
      "text/html": [
       "<div>\n",
       "<style scoped>\n",
       "    .dataframe tbody tr th:only-of-type {\n",
       "        vertical-align: middle;\n",
       "    }\n",
       "\n",
       "    .dataframe tbody tr th {\n",
       "        vertical-align: top;\n",
       "    }\n",
       "\n",
       "    .dataframe thead th {\n",
       "        text-align: right;\n",
       "    }\n",
       "</style>\n",
       "<table border=\"1\" class=\"dataframe\">\n",
       "  <thead>\n",
       "    <tr style=\"text-align: right;\">\n",
       "      <th></th>\n",
       "      <th>fit_time</th>\n",
       "      <th>score_time</th>\n",
       "      <th>test_r2</th>\n",
       "      <th>test_neg_mean_absolute_error</th>\n",
       "      <th>test_neg_mean_squared_error</th>\n",
       "      <th>test_neg_root_mean_squared_error</th>\n",
       "    </tr>\n",
       "  </thead>\n",
       "  <tbody>\n",
       "    <tr>\n",
       "      <th>1</th>\n",
       "      <td>0.359</td>\n",
       "      <td>0.004</td>\n",
       "      <td>0.886</td>\n",
       "      <td>-1717.728</td>\n",
       "      <td>-6224241.617</td>\n",
       "      <td>-2494.843</td>\n",
       "    </tr>\n",
       "    <tr>\n",
       "      <th>2</th>\n",
       "      <td>0.417</td>\n",
       "      <td>0.003</td>\n",
       "      <td>0.873</td>\n",
       "      <td>-1787.325</td>\n",
       "      <td>-7457829.364</td>\n",
       "      <td>-2730.903</td>\n",
       "    </tr>\n",
       "    <tr>\n",
       "      <th>3</th>\n",
       "      <td>0.417</td>\n",
       "      <td>0.006</td>\n",
       "      <td>0.889</td>\n",
       "      <td>-1750.095</td>\n",
       "      <td>-6015186.768</td>\n",
       "      <td>-2452.588</td>\n",
       "    </tr>\n",
       "    <tr>\n",
       "      <th>4</th>\n",
       "      <td>0.487</td>\n",
       "      <td>0.004</td>\n",
       "      <td>0.888</td>\n",
       "      <td>-1733.041</td>\n",
       "      <td>-6228010.089</td>\n",
       "      <td>-2495.598</td>\n",
       "    </tr>\n",
       "    <tr>\n",
       "      <th>5</th>\n",
       "      <td>0.435</td>\n",
       "      <td>0.005</td>\n",
       "      <td>0.889</td>\n",
       "      <td>-1674.572</td>\n",
       "      <td>-5514290.244</td>\n",
       "      <td>-2348.253</td>\n",
       "    </tr>\n",
       "  </tbody>\n",
       "</table>\n",
       "</div>"
      ],
      "text/plain": [
       "   fit_time  score_time  test_r2  test_neg_mean_absolute_error  \\\n",
       "1     0.359       0.004    0.886                     -1717.728   \n",
       "2     0.417       0.003    0.873                     -1787.325   \n",
       "3     0.417       0.006    0.889                     -1750.095   \n",
       "4     0.487       0.004    0.888                     -1733.041   \n",
       "5     0.435       0.005    0.889                     -1674.572   \n",
       "\n",
       "   test_neg_mean_squared_error  test_neg_root_mean_squared_error  \n",
       "1                 -6224241.617                         -2494.843  \n",
       "2                 -7457829.364                         -2730.903  \n",
       "3                 -6015186.768                         -2452.588  \n",
       "4                 -6228010.089                         -2495.598  \n",
       "5                 -5514290.244                         -2348.253  "
      ]
     },
     "execution_count": 112,
     "metadata": {},
     "output_type": "execute_result"
    }
   ],
   "source": [
    "pd.DataFrame(scores, index = range(1, 6))"
   ]
  },
  {
   "cell_type": "code",
   "execution_count": 113,
   "metadata": {},
   "outputs": [
    {
     "data": {
      "text/plain": [
       "test_r2                                   0.885\n",
       "test_neg_mean_absolute_error          -1732.552\n",
       "test_neg_mean_squared_error        -6287911.616\n",
       "test_neg_root_mean_squared_error      -2504.437\n",
       "dtype: float64"
      ]
     },
     "execution_count": 113,
     "metadata": {},
     "output_type": "execute_result"
    }
   ],
   "source": [
    "scores = pd.DataFrame(scores, index = range(1, 6))\n",
    "scores.iloc[:,2:].mean()"
   ]
  },
  {
   "cell_type": "code",
   "execution_count": 114,
   "metadata": {},
   "outputs": [
    {
     "data": {
      "text/plain": [
       "<AxesSubplot:>"
      ]
     },
     "execution_count": 114,
     "metadata": {},
     "output_type": "execute_result"
    },
    {
     "data": {
      "image/png": "[encoded data removed]",
      "text/plain": [
       "<Figure size 720x432 with 1 Axes>"
      ]
     },
     "metadata": {
      "needs_background": "light"
     },
     "output_type": "display_data"
    }
   ],
   "source": [
    "sns.lineplot(data = scores.iloc[:,2:])"
   ]
  },
  {
   "cell_type": "code",
   "execution_count": 115,
   "metadata": {},
   "outputs": [
    {
     "data": {
      "text/plain": [
       "array([-1.36281422e+03,  4.06418104e+02, -1.79523964e+03,  2.79130964e+01,\n",
       "        2.53140074e+03, -8.46376404e+01, -1.58811665e+02, -2.16815135e+02,\n",
       "        5.70858734e+02, -6.70504314e+02,  6.82538983e+01,  3.61320319e+01,\n",
       "       -0.00000000e+00,  1.24452815e+02, -1.16735199e+01,  1.67249774e+02,\n",
       "       -1.17858137e+01, -3.63756485e+01,  6.19543906e+01,  6.90345677e+01,\n",
       "        1.01869236e+02,  4.42610365e+02,  1.13588367e+02,  5.49643554e+01,\n",
       "        2.63367920e+01, -6.33083099e+01,  5.74183488e+01,  6.45436609e+01,\n",
       "       -1.58298001e+02,  9.14785581e+01,  2.94076995e+01,  1.61788610e+02,\n",
       "       -1.78255686e+01,  2.99614258e+02,  2.21762843e+01,  2.13035450e+02,\n",
       "        9.93136630e+01, -2.71610826e+02,  5.17523068e+01, -8.94708258e+01,\n",
       "        6.36587480e+01,  2.03493882e+02, -7.54797634e+01, -3.93526106e+01,\n",
       "        1.25481522e+02, -3.71605573e+00, -3.66538686e+01,  8.27924154e+00,\n",
       "       -2.15019700e+02,  3.36550286e+00,  2.49970081e+02,  4.61182110e+01,\n",
       "        2.39961424e+01,  3.83957134e+00,  5.10973321e+01, -1.05874834e+02,\n",
       "       -6.66700006e+01, -1.51192637e+02,  8.10411218e+01,  1.94730528e+01,\n",
       "        8.02559720e+01, -2.44183563e+01,  1.77796332e+01, -2.69944019e+01,\n",
       "        2.38682631e+01, -3.51696584e+01, -6.24074716e+00,  1.09378927e+02,\n",
       "        5.67295097e+01, -1.34717982e+01, -1.11032252e+02,  9.71634845e+00,\n",
       "        4.39189695e+01, -7.78904983e+01, -1.68895789e+01,  5.11103023e+00,\n",
       "        2.63432064e+01,  3.13575178e+01,  5.46666370e+01, -7.76483808e+01,\n",
       "       -8.83183105e+01, -1.87562649e+01, -1.17776557e+02,  2.58877947e+01,\n",
       "       -0.00000000e+00, -1.09628728e+02,  6.85926175e+01, -2.44800912e+02,\n",
       "       -6.74152806e+01, -2.46242427e+01, -1.17550097e+02, -1.87174469e+02,\n",
       "       -1.18221445e+02,  3.47562012e+02,  2.67875280e+02,  3.35848989e+01,\n",
       "        1.33927393e+02, -1.59484545e+02, -1.20269165e+02,  8.85555418e+01,\n",
       "        7.40524678e+01,  2.83799088e+01,  3.47112079e+01, -1.21569146e+02,\n",
       "        4.36624405e+02, -1.46196316e+03, -1.79674809e+03, -5.24632823e+02,\n",
       "       -1.78262086e+03, -3.87102411e+02,  7.07455065e+02,  1.64269575e+01,\n",
       "       -1.04450344e+01,  3.37725953e+01,  6.39543895e+01,  1.80183678e+02,\n",
       "       -8.84245083e+01,  3.75995310e+02, -7.45727554e+02, -2.93927953e+02,\n",
       "       -6.59104372e+02, -1.30891323e+03,  4.79959566e+02, -4.52362643e-01,\n",
       "        1.17691955e+02,  3.98932179e+01,  1.08291985e+02, -6.62256026e+02,\n",
       "        4.23653275e+02, -3.49323908e+02, -2.46722433e+01])"
      ]
     },
     "execution_count": 115,
     "metadata": {},
     "output_type": "execute_result"
    }
   ],
   "source": [
    "lasso_model.coef_"
   ]
  },
  {
   "cell_type": "code",
   "execution_count": 116,
   "metadata": {},
   "outputs": [],
   "source": [
    "lsm_df = pd.DataFrame(lasso_model.coef_, columns = [\"lasso_coef_1\"])"
   ]
  },
  {
   "cell_type": "code",
   "execution_count": 119,
   "metadata": {},
   "outputs": [
    {
     "data": {
      "text/html": [
       "<div>\n",
       "<style scoped>\n",
       "    .dataframe tbody tr th:only-of-type {\n",
       "        vertical-align: middle;\n",
       "    }\n",
       "\n",
       "    .dataframe tbody tr th {\n",
       "        vertical-align: top;\n",
       "    }\n",
       "\n",
       "    .dataframe thead th {\n",
       "        text-align: right;\n",
       "    }\n",
       "</style>\n",
       "<table border=\"1\" class=\"dataframe\">\n",
       "  <thead>\n",
       "    <tr style=\"text-align: right;\">\n",
       "      <th></th>\n",
       "      <th>lm_coef</th>\n",
       "      <th>ridge_coef_1</th>\n",
       "      <th>ridge_cv_coef_0.02</th>\n",
       "      <th>lasso_coef_1</th>\n",
       "    </tr>\n",
       "  </thead>\n",
       "  <tbody>\n",
       "    <tr>\n",
       "      <th>0</th>\n",
       "      <td>-1364.297</td>\n",
       "      <td>-1364.230</td>\n",
       "      <td>-1364.230</td>\n",
       "      <td>-1362.814</td>\n",
       "    </tr>\n",
       "    <tr>\n",
       "      <th>1</th>\n",
       "      <td>406.600</td>\n",
       "      <td>406.891</td>\n",
       "      <td>406.891</td>\n",
       "      <td>406.418</td>\n",
       "    </tr>\n",
       "    <tr>\n",
       "      <th>2</th>\n",
       "      <td>-1793.425</td>\n",
       "      <td>-1793.307</td>\n",
       "      <td>-1793.307</td>\n",
       "      <td>-1795.240</td>\n",
       "    </tr>\n",
       "    <tr>\n",
       "      <th>3</th>\n",
       "      <td>29.963</td>\n",
       "      <td>29.847</td>\n",
       "      <td>29.847</td>\n",
       "      <td>27.913</td>\n",
       "    </tr>\n",
       "    <tr>\n",
       "      <th>4</th>\n",
       "      <td>2539.899</td>\n",
       "      <td>2538.609</td>\n",
       "      <td>2538.609</td>\n",
       "      <td>2531.401</td>\n",
       "    </tr>\n",
       "    <tr>\n",
       "      <th>...</th>\n",
       "      <td>...</td>\n",
       "      <td>...</td>\n",
       "      <td>...</td>\n",
       "      <td>...</td>\n",
       "    </tr>\n",
       "    <tr>\n",
       "      <th>126</th>\n",
       "      <td>108.380</td>\n",
       "      <td>108.410</td>\n",
       "      <td>108.410</td>\n",
       "      <td>108.292</td>\n",
       "    </tr>\n",
       "    <tr>\n",
       "      <th>127</th>\n",
       "      <td>-660.643</td>\n",
       "      <td>-660.645</td>\n",
       "      <td>-660.645</td>\n",
       "      <td>-662.256</td>\n",
       "    </tr>\n",
       "    <tr>\n",
       "      <th>128</th>\n",
       "      <td>424.725</td>\n",
       "      <td>424.717</td>\n",
       "      <td>424.717</td>\n",
       "      <td>423.653</td>\n",
       "    </tr>\n",
       "    <tr>\n",
       "      <th>129</th>\n",
       "      <td>-350.047</td>\n",
       "      <td>-350.075</td>\n",
       "      <td>-350.075</td>\n",
       "      <td>-349.324</td>\n",
       "    </tr>\n",
       "    <tr>\n",
       "      <th>130</th>\n",
       "      <td>-25.679</td>\n",
       "      <td>-25.684</td>\n",
       "      <td>-25.684</td>\n",
       "      <td>-24.672</td>\n",
       "    </tr>\n",
       "  </tbody>\n",
       "</table>\n",
       "<p>131 rows × 4 columns</p>\n",
       "</div>"
      ],
      "text/plain": [
       "      lm_coef  ridge_coef_1  ridge_cv_coef_0.02  lasso_coef_1\n",
       "0   -1364.297     -1364.230           -1364.230     -1362.814\n",
       "1     406.600       406.891             406.891       406.418\n",
       "2   -1793.425     -1793.307           -1793.307     -1795.240\n",
       "3      29.963        29.847              29.847        27.913\n",
       "4    2539.899      2538.609            2538.609      2531.401\n",
       "..        ...           ...                 ...           ...\n",
       "126   108.380       108.410             108.410       108.292\n",
       "127  -660.643      -660.645            -660.645      -662.256\n",
       "128   424.725       424.717             424.717       423.653\n",
       "129  -350.047      -350.075            -350.075      -349.324\n",
       "130   -25.679       -25.684             -25.684       -24.672\n",
       "\n",
       "[131 rows x 4 columns]"
      ]
     },
     "execution_count": 119,
     "metadata": {},
     "output_type": "execute_result"
    }
   ],
   "source": [
    "pd.concat([lm_df, rm_df, rcm_df, lsm_df], axis = 1)"
   ]
  },
  {
   "cell_type": "markdown",
   "metadata": {},
   "source": [
    "### Choosing best alpha value with Cross-Validation"
   ]
  },
  {
   "cell_type": "code",
   "execution_count": 120,
   "metadata": {},
   "outputs": [],
   "source": [
    "lasso_cv_model = LassoCV(alphas = alpha_space, cv = 5, max_iter=100000, random_state=2) "
   ]
  },
  {
   "cell_type": "code",
   "execution_count": 121,
   "metadata": {},
   "outputs": [
    {
     "data": {
      "text/plain": [
       "LassoCV(alphas=array([0.01, 0.02, 0.03, 0.04, 0.05, 0.06, 0.07, 0.08, 0.09, 0.1 , 0.11,\n",
       "       0.12, 0.13, 0.14, 0.15, 0.16, 0.17, 0.18, 0.19, 0.2 , 0.21, 0.22,\n",
       "       0.23, 0.24, 0.25, 0.26, 0.27, 0.28, 0.29, 0.3 , 0.31, 0.32, 0.33,\n",
       "       0.34, 0.35, 0.36, 0.37, 0.38, 0.39, 0.4 , 0.41, 0.42, 0.43, 0.44,\n",
       "       0.45, 0.46, 0.47, 0.48, 0.49, 0.5 , 0.51, 0.52, 0.53, 0.54, 0.55,\n",
       "       0.56, 0.57, 0.58, 0.59, 0.6 , 0.61, 0.62, 0.63, 0.64, 0.65, 0.66,\n",
       "       0.67, 0.68, 0.69, 0.7 , 0.71, 0.72, 0.73, 0.74, 0.75, 0.76, 0.77,\n",
       "       0.78, 0.79, 0.8 , 0.81, 0.82, 0.83, 0.84, 0.85, 0.86, 0.87, 0.88,\n",
       "       0.89, 0.9 , 0.91, 0.92, 0.93, 0.94, 0.95, 0.96, 0.97, 0.98, 0.99,\n",
       "       1.  ]),\n",
       "        cv=5, max_iter=100000, random_state=2)"
      ]
     },
     "execution_count": 121,
     "metadata": {},
     "output_type": "execute_result"
    }
   ],
   "source": [
    "lasso_cv_model.fit(X_train_scaled, y_train)"
   ]
  },
  {
   "cell_type": "code",
   "execution_count": 122,
   "metadata": {},
   "outputs": [
    {
     "data": {
      "text/plain": [
       "1.0"
      ]
     },
     "execution_count": 122,
     "metadata": {},
     "output_type": "execute_result"
    }
   ],
   "source": [
    "lasso_cv_model.alpha_"
   ]
  },
  {
   "cell_type": "code",
   "execution_count": 123,
   "metadata": {},
   "outputs": [
    {
     "data": {
      "text/plain": [
       "(array([0], dtype=int64),)"
      ]
     },
     "execution_count": 123,
     "metadata": {},
     "output_type": "execute_result"
    }
   ],
   "source": [
    "np.where(alpha_space[::-1]==lasso_cv_model.alpha_)"
   ]
  },
  {
   "cell_type": "code",
   "execution_count": 124,
   "metadata": {},
   "outputs": [
    {
     "data": {
      "text/plain": [
       "array([1.  , 0.99, 0.98, 0.97, 0.96, 0.95, 0.94, 0.93, 0.92, 0.91, 0.9 ,\n",
       "       0.89, 0.88, 0.87, 0.86, 0.85, 0.84, 0.83, 0.82, 0.81, 0.8 , 0.79,\n",
       "       0.78, 0.77, 0.76, 0.75, 0.74, 0.73, 0.72, 0.71, 0.7 , 0.69, 0.68,\n",
       "       0.67, 0.66, 0.65, 0.64, 0.63, 0.62, 0.61, 0.6 , 0.59, 0.58, 0.57,\n",
       "       0.56, 0.55, 0.54, 0.53, 0.52, 0.51, 0.5 , 0.49, 0.48, 0.47, 0.46,\n",
       "       0.45, 0.44, 0.43, 0.42, 0.41, 0.4 , 0.39, 0.38, 0.37, 0.36, 0.35,\n",
       "       0.34, 0.33, 0.32, 0.31, 0.3 , 0.29, 0.28, 0.27, 0.26, 0.25, 0.24,\n",
       "       0.23, 0.22, 0.21, 0.2 , 0.19, 0.18, 0.17, 0.16, 0.15, 0.14, 0.13,\n",
       "       0.12, 0.11, 0.1 , 0.09, 0.08, 0.07, 0.06, 0.05, 0.04, 0.03, 0.02,\n",
       "       0.01])"
      ]
     },
     "execution_count": 124,
     "metadata": {},
     "output_type": "execute_result"
    }
   ],
   "source": [
    "alpha_space[::-1]"
   ]
  },
  {
   "cell_type": "code",
   "execution_count": 125,
   "metadata": {},
   "outputs": [
    {
     "data": {
      "text/plain": [
       "6290228.419324695"
      ]
     },
     "execution_count": 125,
     "metadata": {},
     "output_type": "execute_result"
    }
   ],
   "source": [
    "lasso_cv_model.mse_path_[99].mean()"
   ]
  },
  {
   "cell_type": "code",
   "execution_count": 126,
   "metadata": {},
   "outputs": [],
   "source": [
    "y_pred = lasso_cv_model.predict(X_test_scaled)  \n",
    "y_train_pred = lasso_cv_model.predict(X_train_scaled)"
   ]
  },
  {
   "cell_type": "code",
   "execution_count": 127,
   "metadata": {},
   "outputs": [
    {
     "data": {
      "text/html": [
       "<div>\n",
       "<style scoped>\n",
       "    .dataframe tbody tr th:only-of-type {\n",
       "        vertical-align: middle;\n",
       "    }\n",
       "\n",
       "    .dataframe tbody tr th {\n",
       "        vertical-align: top;\n",
       "    }\n",
       "\n",
       "    .dataframe thead th {\n",
       "        text-align: right;\n",
       "    }\n",
       "</style>\n",
       "<table border=\"1\" class=\"dataframe\">\n",
       "  <thead>\n",
       "    <tr style=\"text-align: right;\">\n",
       "      <th></th>\n",
       "      <th>lasso_cv_train</th>\n",
       "      <th>lasso_cv_test</th>\n",
       "    </tr>\n",
       "  </thead>\n",
       "  <tbody>\n",
       "    <tr>\n",
       "      <th>R2</th>\n",
       "      <td>0.889</td>\n",
       "      <td>0.893</td>\n",
       "    </tr>\n",
       "    <tr>\n",
       "      <th>mae</th>\n",
       "      <td>1706.020</td>\n",
       "      <td>1713.023</td>\n",
       "    </tr>\n",
       "    <tr>\n",
       "      <th>mse</th>\n",
       "      <td>6056283.058</td>\n",
       "      <td>5785855.799</td>\n",
       "    </tr>\n",
       "    <tr>\n",
       "      <th>rmse</th>\n",
       "      <td>2460.952</td>\n",
       "      <td>2405.381</td>\n",
       "    </tr>\n",
       "  </tbody>\n",
       "</table>\n",
       "</div>"
      ],
      "text/plain": [
       "      lasso_cv_train  lasso_cv_test\n",
       "R2             0.889          0.893\n",
       "mae         1706.020       1713.023\n",
       "mse      6056283.058    5785855.799\n",
       "rmse        2460.952       2405.381"
      ]
     },
     "execution_count": 127,
     "metadata": {},
     "output_type": "execute_result"
    }
   ],
   "source": [
    "lcs = train_val(y_train, y_train_pred, y_test, y_pred, \"lasso_cv\")\n",
    "lcs"
   ]
  },
  {
   "cell_type": "code",
   "execution_count": 128,
   "metadata": {},
   "outputs": [
    {
     "data": {
      "text/html": [
       "<div>\n",
       "<style scoped>\n",
       "    .dataframe tbody tr th:only-of-type {\n",
       "        vertical-align: middle;\n",
       "    }\n",
       "\n",
       "    .dataframe tbody tr th {\n",
       "        vertical-align: top;\n",
       "    }\n",
       "\n",
       "    .dataframe thead th {\n",
       "        text-align: right;\n",
       "    }\n",
       "</style>\n",
       "<table border=\"1\" class=\"dataframe\">\n",
       "  <thead>\n",
       "    <tr style=\"text-align: right;\">\n",
       "      <th></th>\n",
       "      <th>linear_train</th>\n",
       "      <th>linear_test</th>\n",
       "      <th>ridge_train</th>\n",
       "      <th>ridge_test</th>\n",
       "      <th>ridge_cv_train</th>\n",
       "      <th>ridge_cv_test</th>\n",
       "      <th>lasso_train</th>\n",
       "      <th>lasso_test</th>\n",
       "      <th>lasso_cv_train</th>\n",
       "      <th>lasso_cv_test</th>\n",
       "    </tr>\n",
       "  </thead>\n",
       "  <tbody>\n",
       "    <tr>\n",
       "      <th>R2</th>\n",
       "      <td>0.889</td>\n",
       "      <td>0.893</td>\n",
       "      <td>0.889</td>\n",
       "      <td>0.893</td>\n",
       "      <td>0.889</td>\n",
       "      <td>0.893</td>\n",
       "      <td>0.889</td>\n",
       "      <td>0.893</td>\n",
       "      <td>0.889</td>\n",
       "      <td>0.893</td>\n",
       "    </tr>\n",
       "    <tr>\n",
       "      <th>mae</th>\n",
       "      <td>1706.582</td>\n",
       "      <td>1714.381</td>\n",
       "      <td>1706.536</td>\n",
       "      <td>1714.310</td>\n",
       "      <td>1706.536</td>\n",
       "      <td>1714.310</td>\n",
       "      <td>1706.020</td>\n",
       "      <td>1713.023</td>\n",
       "      <td>1706.020</td>\n",
       "      <td>1713.023</td>\n",
       "    </tr>\n",
       "    <tr>\n",
       "      <th>mse</th>\n",
       "      <td>6055898.162</td>\n",
       "      <td>5794204.675</td>\n",
       "      <td>6055899.473</td>\n",
       "      <td>5793909.037</td>\n",
       "      <td>6055899.473</td>\n",
       "      <td>5793909.037</td>\n",
       "      <td>6056283.058</td>\n",
       "      <td>5785855.799</td>\n",
       "      <td>6056283.058</td>\n",
       "      <td>5785855.799</td>\n",
       "    </tr>\n",
       "    <tr>\n",
       "      <th>rmse</th>\n",
       "      <td>2460.873</td>\n",
       "      <td>2407.115</td>\n",
       "      <td>2460.874</td>\n",
       "      <td>2407.054</td>\n",
       "      <td>2460.874</td>\n",
       "      <td>2407.054</td>\n",
       "      <td>2460.952</td>\n",
       "      <td>2405.381</td>\n",
       "      <td>2460.952</td>\n",
       "      <td>2405.381</td>\n",
       "    </tr>\n",
       "  </tbody>\n",
       "</table>\n",
       "</div>"
      ],
      "text/plain": [
       "      linear_train  linear_test  ridge_train  ridge_test  ridge_cv_train  \\\n",
       "R2           0.889        0.893        0.889       0.893           0.889   \n",
       "mae       1706.582     1714.381     1706.536    1714.310        1706.536   \n",
       "mse    6055898.162  5794204.675  6055899.473 5793909.037     6055899.473   \n",
       "rmse      2460.873     2407.115     2460.874    2407.054        2460.874   \n",
       "\n",
       "      ridge_cv_test  lasso_train  lasso_test  lasso_cv_train  lasso_cv_test  \n",
       "R2            0.893        0.889       0.893           0.889          0.893  \n",
       "mae        1714.310     1706.020    1713.023        1706.020       1713.023  \n",
       "mse     5793909.037  6056283.058 5785855.799     6056283.058    5785855.799  \n",
       "rmse       2407.054     2460.952    2405.381        2460.952       2405.381  "
      ]
     },
     "execution_count": 128,
     "metadata": {},
     "output_type": "execute_result"
    }
   ],
   "source": [
    "pd.concat([ls,rs, rcs, lss, lcs], axis = 1)"
   ]
  },
  {
   "cell_type": "code",
   "execution_count": 129,
   "metadata": {},
   "outputs": [
    {
     "data": {
      "text/plain": [
       "array([-1.36281422e+03,  4.06418104e+02, -1.79523964e+03,  2.79130964e+01,\n",
       "        2.53140074e+03, -8.46376404e+01, -1.58811665e+02, -2.16815135e+02,\n",
       "        5.70858734e+02, -6.70504314e+02,  6.82538983e+01,  3.61320319e+01,\n",
       "       -0.00000000e+00,  1.24452815e+02, -1.16735199e+01,  1.67249774e+02,\n",
       "       -1.17858137e+01, -3.63756485e+01,  6.19543906e+01,  6.90345677e+01,\n",
       "        1.01869236e+02,  4.42610365e+02,  1.13588367e+02,  5.49643554e+01,\n",
       "        2.63367920e+01, -6.33083099e+01,  5.74183488e+01,  6.45436609e+01,\n",
       "       -1.58298001e+02,  9.14785581e+01,  2.94076995e+01,  1.61788610e+02,\n",
       "       -1.78255686e+01,  2.99614258e+02,  2.21762843e+01,  2.13035450e+02,\n",
       "        9.93136630e+01, -2.71610826e+02,  5.17523068e+01, -8.94708258e+01,\n",
       "        6.36587480e+01,  2.03493882e+02, -7.54797634e+01, -3.93526106e+01,\n",
       "        1.25481522e+02, -3.71605573e+00, -3.66538686e+01,  8.27924154e+00,\n",
       "       -2.15019700e+02,  3.36550286e+00,  2.49970081e+02,  4.61182110e+01,\n",
       "        2.39961424e+01,  3.83957134e+00,  5.10973321e+01, -1.05874834e+02,\n",
       "       -6.66700006e+01, -1.51192637e+02,  8.10411218e+01,  1.94730528e+01,\n",
       "        8.02559720e+01, -2.44183563e+01,  1.77796332e+01, -2.69944019e+01,\n",
       "        2.38682631e+01, -3.51696584e+01, -6.24074716e+00,  1.09378927e+02,\n",
       "        5.67295097e+01, -1.34717982e+01, -1.11032252e+02,  9.71634845e+00,\n",
       "        4.39189695e+01, -7.78904983e+01, -1.68895789e+01,  5.11103023e+00,\n",
       "        2.63432064e+01,  3.13575178e+01,  5.46666370e+01, -7.76483808e+01,\n",
       "       -8.83183105e+01, -1.87562649e+01, -1.17776557e+02,  2.58877947e+01,\n",
       "       -0.00000000e+00, -1.09628728e+02,  6.85926175e+01, -2.44800912e+02,\n",
       "       -6.74152806e+01, -2.46242427e+01, -1.17550097e+02, -1.87174469e+02,\n",
       "       -1.18221445e+02,  3.47562012e+02,  2.67875280e+02,  3.35848989e+01,\n",
       "        1.33927393e+02, -1.59484545e+02, -1.20269165e+02,  8.85555418e+01,\n",
       "        7.40524678e+01,  2.83799088e+01,  3.47112079e+01, -1.21569146e+02,\n",
       "        4.36624405e+02, -1.46196316e+03, -1.79674809e+03, -5.24632823e+02,\n",
       "       -1.78262086e+03, -3.87102411e+02,  7.07455065e+02,  1.64269575e+01,\n",
       "       -1.04450344e+01,  3.37725953e+01,  6.39543895e+01,  1.80183678e+02,\n",
       "       -8.84245083e+01,  3.75995310e+02, -7.45727554e+02, -2.93927953e+02,\n",
       "       -6.59104372e+02, -1.30891323e+03,  4.79959566e+02, -4.52362643e-01,\n",
       "        1.17691955e+02,  3.98932179e+01,  1.08291985e+02, -6.62256026e+02,\n",
       "        4.23653275e+02, -3.49323908e+02, -2.46722433e+01])"
      ]
     },
     "execution_count": 129,
     "metadata": {},
     "output_type": "execute_result"
    }
   ],
   "source": [
    "lasso_cv_model.coef_"
   ]
  },
  {
   "cell_type": "code",
   "execution_count": 130,
   "metadata": {},
   "outputs": [],
   "source": [
    "lcm_df = pd.DataFrame(lasso_cv_model.coef_, columns = [\"lasso_cv_coef_0.01\"])"
   ]
  },
  {
   "cell_type": "code",
   "execution_count": 131,
   "metadata": {},
   "outputs": [
    {
     "data": {
      "text/html": [
       "<div>\n",
       "<style scoped>\n",
       "    .dataframe tbody tr th:only-of-type {\n",
       "        vertical-align: middle;\n",
       "    }\n",
       "\n",
       "    .dataframe tbody tr th {\n",
       "        vertical-align: top;\n",
       "    }\n",
       "\n",
       "    .dataframe thead th {\n",
       "        text-align: right;\n",
       "    }\n",
       "</style>\n",
       "<table border=\"1\" class=\"dataframe\">\n",
       "  <thead>\n",
       "    <tr style=\"text-align: right;\">\n",
       "      <th></th>\n",
       "      <th>lm_coef</th>\n",
       "      <th>ridge_coef_1</th>\n",
       "      <th>ridge_cv_coef_0.02</th>\n",
       "      <th>lasso_coef_1</th>\n",
       "      <th>lasso_cv_coef_0.01</th>\n",
       "    </tr>\n",
       "  </thead>\n",
       "  <tbody>\n",
       "    <tr>\n",
       "      <th>0</th>\n",
       "      <td>-1364.297</td>\n",
       "      <td>-1364.230</td>\n",
       "      <td>-1364.230</td>\n",
       "      <td>-1362.814</td>\n",
       "      <td>-1362.814</td>\n",
       "    </tr>\n",
       "    <tr>\n",
       "      <th>1</th>\n",
       "      <td>406.600</td>\n",
       "      <td>406.891</td>\n",
       "      <td>406.891</td>\n",
       "      <td>406.418</td>\n",
       "      <td>406.418</td>\n",
       "    </tr>\n",
       "    <tr>\n",
       "      <th>2</th>\n",
       "      <td>-1793.425</td>\n",
       "      <td>-1793.307</td>\n",
       "      <td>-1793.307</td>\n",
       "      <td>-1795.240</td>\n",
       "      <td>-1795.240</td>\n",
       "    </tr>\n",
       "    <tr>\n",
       "      <th>3</th>\n",
       "      <td>29.963</td>\n",
       "      <td>29.847</td>\n",
       "      <td>29.847</td>\n",
       "      <td>27.913</td>\n",
       "      <td>27.913</td>\n",
       "    </tr>\n",
       "    <tr>\n",
       "      <th>4</th>\n",
       "      <td>2539.899</td>\n",
       "      <td>2538.609</td>\n",
       "      <td>2538.609</td>\n",
       "      <td>2531.401</td>\n",
       "      <td>2531.401</td>\n",
       "    </tr>\n",
       "    <tr>\n",
       "      <th>...</th>\n",
       "      <td>...</td>\n",
       "      <td>...</td>\n",
       "      <td>...</td>\n",
       "      <td>...</td>\n",
       "      <td>...</td>\n",
       "    </tr>\n",
       "    <tr>\n",
       "      <th>126</th>\n",
       "      <td>108.380</td>\n",
       "      <td>108.410</td>\n",
       "      <td>108.410</td>\n",
       "      <td>108.292</td>\n",
       "      <td>108.292</td>\n",
       "    </tr>\n",
       "    <tr>\n",
       "      <th>127</th>\n",
       "      <td>-660.643</td>\n",
       "      <td>-660.645</td>\n",
       "      <td>-660.645</td>\n",
       "      <td>-662.256</td>\n",
       "      <td>-662.256</td>\n",
       "    </tr>\n",
       "    <tr>\n",
       "      <th>128</th>\n",
       "      <td>424.725</td>\n",
       "      <td>424.717</td>\n",
       "      <td>424.717</td>\n",
       "      <td>423.653</td>\n",
       "      <td>423.653</td>\n",
       "    </tr>\n",
       "    <tr>\n",
       "      <th>129</th>\n",
       "      <td>-350.047</td>\n",
       "      <td>-350.075</td>\n",
       "      <td>-350.075</td>\n",
       "      <td>-349.324</td>\n",
       "      <td>-349.324</td>\n",
       "    </tr>\n",
       "    <tr>\n",
       "      <th>130</th>\n",
       "      <td>-25.679</td>\n",
       "      <td>-25.684</td>\n",
       "      <td>-25.684</td>\n",
       "      <td>-24.672</td>\n",
       "      <td>-24.672</td>\n",
       "    </tr>\n",
       "  </tbody>\n",
       "</table>\n",
       "<p>131 rows × 5 columns</p>\n",
       "</div>"
      ],
      "text/plain": [
       "      lm_coef  ridge_coef_1  ridge_cv_coef_0.02  lasso_coef_1  \\\n",
       "0   -1364.297     -1364.230           -1364.230     -1362.814   \n",
       "1     406.600       406.891             406.891       406.418   \n",
       "2   -1793.425     -1793.307           -1793.307     -1795.240   \n",
       "3      29.963        29.847              29.847        27.913   \n",
       "4    2539.899      2538.609            2538.609      2531.401   \n",
       "..        ...           ...                 ...           ...   \n",
       "126   108.380       108.410             108.410       108.292   \n",
       "127  -660.643      -660.645            -660.645      -662.256   \n",
       "128   424.725       424.717             424.717       423.653   \n",
       "129  -350.047      -350.075            -350.075      -349.324   \n",
       "130   -25.679       -25.684             -25.684       -24.672   \n",
       "\n",
       "     lasso_cv_coef_0.01  \n",
       "0             -1362.814  \n",
       "1               406.418  \n",
       "2             -1795.240  \n",
       "3                27.913  \n",
       "4              2531.401  \n",
       "..                  ...  \n",
       "126             108.292  \n",
       "127            -662.256  \n",
       "128             423.653  \n",
       "129            -349.324  \n",
       "130             -24.672  \n",
       "\n",
       "[131 rows x 5 columns]"
      ]
     },
     "execution_count": 131,
     "metadata": {},
     "output_type": "execute_result"
    }
   ],
   "source": [
    "pd.concat([lm_df, rm_df, rcm_df, lsm_df, lcm_df], axis = 1)"
   ]
  },
  {
   "cell_type": "markdown",
   "metadata": {
    "id": "qpoOypMbmqZO"
   },
   "source": [
    "## 6. Implement Elastic-Net"
   ]
  },
  {
   "cell_type": "markdown",
   "metadata": {
    "id": "El7SNJUemqZO"
   },
   "source": [
    "- Import the modul \n",
    "- Do not forget to scale the data or use Normalize parameter as True(If needed)\n",
    "- Fit the model \n",
    "- Predict the test set \n",
    "- Evaluate model performance (use performance metrics for regression) \n",
    "- Tune alpha hyperparameter by using [GridSearchCV](https://scikit-learn.org/stable/modules/generated/sklearn.model_selection.GridSearchCV.html) and determine the optimal alpha value.\n",
    "- Fit the model and predict again with the new alpha value.\n",
    "- Compare different evaluation metrics"
   ]
  },
  {
   "cell_type": "code",
   "execution_count": 132,
   "metadata": {
    "id": "XKVr6v2JmqZO"
   },
   "outputs": [],
   "source": [
    "from sklearn.linear_model import ElasticNet, ElasticNetCV"
   ]
  },
  {
   "cell_type": "code",
   "execution_count": 134,
   "metadata": {},
   "outputs": [
    {
     "data": {
      "text/plain": [
       "ElasticNet(alpha=1, random_state=2)"
      ]
     },
     "execution_count": 134,
     "metadata": {},
     "output_type": "execute_result"
    }
   ],
   "source": [
    "elastic_model = ElasticNet(alpha=1, l1_ratio=0.5, random_state=2)\n",
    "elastic_model.fit(X_train_scaled, y_train)"
   ]
  },
  {
   "cell_type": "code",
   "execution_count": 135,
   "metadata": {},
   "outputs": [],
   "source": [
    "y_pred = elastic_model.predict(X_test_scaled)\n",
    "y_train_pred = elastic_model.predict(X_train_scaled)"
   ]
  },
  {
   "cell_type": "code",
   "execution_count": 136,
   "metadata": {},
   "outputs": [
    {
     "data": {
      "text/html": [
       "<div>\n",
       "<style scoped>\n",
       "    .dataframe tbody tr th:only-of-type {\n",
       "        vertical-align: middle;\n",
       "    }\n",
       "\n",
       "    .dataframe tbody tr th {\n",
       "        vertical-align: top;\n",
       "    }\n",
       "\n",
       "    .dataframe thead th {\n",
       "        text-align: right;\n",
       "    }\n",
       "</style>\n",
       "<table border=\"1\" class=\"dataframe\">\n",
       "  <thead>\n",
       "    <tr style=\"text-align: right;\">\n",
       "      <th></th>\n",
       "      <th>elastic_train</th>\n",
       "      <th>elastic_test</th>\n",
       "    </tr>\n",
       "  </thead>\n",
       "  <tbody>\n",
       "    <tr>\n",
       "      <th>R2</th>\n",
       "      <td>0.850</td>\n",
       "      <td>0.859</td>\n",
       "    </tr>\n",
       "    <tr>\n",
       "      <th>mae</th>\n",
       "      <td>1934.866</td>\n",
       "      <td>1941.811</td>\n",
       "    </tr>\n",
       "    <tr>\n",
       "      <th>mse</th>\n",
       "      <td>8177121.701</td>\n",
       "      <td>7624870.831</td>\n",
       "    </tr>\n",
       "    <tr>\n",
       "      <th>rmse</th>\n",
       "      <td>2859.567</td>\n",
       "      <td>2761.317</td>\n",
       "    </tr>\n",
       "  </tbody>\n",
       "</table>\n",
       "</div>"
      ],
      "text/plain": [
       "      elastic_train  elastic_test\n",
       "R2            0.850         0.859\n",
       "mae        1934.866      1941.811\n",
       "mse     8177121.701   7624870.831\n",
       "rmse       2859.567      2761.317"
      ]
     },
     "execution_count": 136,
     "metadata": {},
     "output_type": "execute_result"
    }
   ],
   "source": [
    "es = train_val(y_train, y_train_pred, y_test, y_pred, \"elastic\")\n",
    "es"
   ]
  },
  {
   "cell_type": "code",
   "execution_count": 137,
   "metadata": {},
   "outputs": [
    {
     "data": {
      "text/html": [
       "<div>\n",
       "<style scoped>\n",
       "    .dataframe tbody tr th:only-of-type {\n",
       "        vertical-align: middle;\n",
       "    }\n",
       "\n",
       "    .dataframe tbody tr th {\n",
       "        vertical-align: top;\n",
       "    }\n",
       "\n",
       "    .dataframe thead th {\n",
       "        text-align: right;\n",
       "    }\n",
       "</style>\n",
       "<table border=\"1\" class=\"dataframe\">\n",
       "  <thead>\n",
       "    <tr style=\"text-align: right;\">\n",
       "      <th></th>\n",
       "      <th>linear_train</th>\n",
       "      <th>linear_test</th>\n",
       "      <th>ridge_train</th>\n",
       "      <th>ridge_test</th>\n",
       "      <th>ridge_cv_train</th>\n",
       "      <th>ridge_cv_test</th>\n",
       "      <th>lasso_train</th>\n",
       "      <th>lasso_test</th>\n",
       "      <th>lasso_cv_train</th>\n",
       "      <th>lasso_cv_test</th>\n",
       "      <th>elastic_train</th>\n",
       "      <th>elastic_test</th>\n",
       "    </tr>\n",
       "  </thead>\n",
       "  <tbody>\n",
       "    <tr>\n",
       "      <th>R2</th>\n",
       "      <td>0.889</td>\n",
       "      <td>0.893</td>\n",
       "      <td>0.889</td>\n",
       "      <td>0.893</td>\n",
       "      <td>0.889</td>\n",
       "      <td>0.893</td>\n",
       "      <td>0.889</td>\n",
       "      <td>0.893</td>\n",
       "      <td>0.889</td>\n",
       "      <td>0.893</td>\n",
       "      <td>0.850</td>\n",
       "      <td>0.859</td>\n",
       "    </tr>\n",
       "    <tr>\n",
       "      <th>mae</th>\n",
       "      <td>1706.582</td>\n",
       "      <td>1714.381</td>\n",
       "      <td>1706.536</td>\n",
       "      <td>1714.310</td>\n",
       "      <td>1706.536</td>\n",
       "      <td>1714.310</td>\n",
       "      <td>1706.020</td>\n",
       "      <td>1713.023</td>\n",
       "      <td>1706.020</td>\n",
       "      <td>1713.023</td>\n",
       "      <td>1934.866</td>\n",
       "      <td>1941.811</td>\n",
       "    </tr>\n",
       "    <tr>\n",
       "      <th>mse</th>\n",
       "      <td>6055898.162</td>\n",
       "      <td>5794204.675</td>\n",
       "      <td>6055899.473</td>\n",
       "      <td>5793909.037</td>\n",
       "      <td>6055899.473</td>\n",
       "      <td>5793909.037</td>\n",
       "      <td>6056283.058</td>\n",
       "      <td>5785855.799</td>\n",
       "      <td>6056283.058</td>\n",
       "      <td>5785855.799</td>\n",
       "      <td>8177121.701</td>\n",
       "      <td>7624870.831</td>\n",
       "    </tr>\n",
       "    <tr>\n",
       "      <th>rmse</th>\n",
       "      <td>2460.873</td>\n",
       "      <td>2407.115</td>\n",
       "      <td>2460.874</td>\n",
       "      <td>2407.054</td>\n",
       "      <td>2460.874</td>\n",
       "      <td>2407.054</td>\n",
       "      <td>2460.952</td>\n",
       "      <td>2405.381</td>\n",
       "      <td>2460.952</td>\n",
       "      <td>2405.381</td>\n",
       "      <td>2859.567</td>\n",
       "      <td>2761.317</td>\n",
       "    </tr>\n",
       "  </tbody>\n",
       "</table>\n",
       "</div>"
      ],
      "text/plain": [
       "      linear_train  linear_test  ridge_train  ridge_test  ridge_cv_train  \\\n",
       "R2           0.889        0.893        0.889       0.893           0.889   \n",
       "mae       1706.582     1714.381     1706.536    1714.310        1706.536   \n",
       "mse    6055898.162  5794204.675  6055899.473 5793909.037     6055899.473   \n",
       "rmse      2460.873     2407.115     2460.874    2407.054        2460.874   \n",
       "\n",
       "      ridge_cv_test  lasso_train  lasso_test  lasso_cv_train  lasso_cv_test  \\\n",
       "R2            0.893        0.889       0.893           0.889          0.893   \n",
       "mae        1714.310     1706.020    1713.023        1706.020       1713.023   \n",
       "mse     5793909.037  6056283.058 5785855.799     6056283.058    5785855.799   \n",
       "rmse       2407.054     2460.952    2405.381        2460.952       2405.381   \n",
       "\n",
       "      elastic_train  elastic_test  \n",
       "R2            0.850         0.859  \n",
       "mae        1934.866      1941.811  \n",
       "mse     8177121.701   7624870.831  \n",
       "rmse       2859.567      2761.317  "
      ]
     },
     "execution_count": 137,
     "metadata": {},
     "output_type": "execute_result"
    }
   ],
   "source": [
    "pd.concat([ls,rs, rcs, lss, lcs, es], axis = 1)"
   ]
  },
  {
   "cell_type": "markdown",
   "metadata": {},
   "source": [
    "## For Elastic_net CV with Default alpha = 1 and l1_ratio=0.5"
   ]
  },
  {
   "cell_type": "code",
   "execution_count": 138,
   "metadata": {},
   "outputs": [],
   "source": [
    "model = ElasticNet(alpha=1, l1_ratio=0.5, random_state=42)\n",
    "scores = cross_validate(model, X_train_scaled, y_train,\n",
    "                        scoring=['r2', 'neg_mean_absolute_error','neg_mean_squared_error','neg_root_mean_squared_error'], cv=5)"
   ]
  },
  {
   "cell_type": "code",
   "execution_count": 139,
   "metadata": {},
   "outputs": [
    {
     "data": {
      "text/html": [
       "<div>\n",
       "<style scoped>\n",
       "    .dataframe tbody tr th:only-of-type {\n",
       "        vertical-align: middle;\n",
       "    }\n",
       "\n",
       "    .dataframe tbody tr th {\n",
       "        vertical-align: top;\n",
       "    }\n",
       "\n",
       "    .dataframe thead th {\n",
       "        text-align: right;\n",
       "    }\n",
       "</style>\n",
       "<table border=\"1\" class=\"dataframe\">\n",
       "  <thead>\n",
       "    <tr style=\"text-align: right;\">\n",
       "      <th></th>\n",
       "      <th>test_r2</th>\n",
       "      <th>test_neg_mean_absolute_error</th>\n",
       "      <th>test_neg_mean_squared_error</th>\n",
       "      <th>test_neg_root_mean_squared_error</th>\n",
       "    </tr>\n",
       "  </thead>\n",
       "  <tbody>\n",
       "    <tr>\n",
       "      <th>1</th>\n",
       "      <td>0.849</td>\n",
       "      <td>-1947.250</td>\n",
       "      <td>-8240009.437</td>\n",
       "      <td>-2870.542</td>\n",
       "    </tr>\n",
       "    <tr>\n",
       "      <th>2</th>\n",
       "      <td>0.831</td>\n",
       "      <td>-1992.864</td>\n",
       "      <td>-9920703.024</td>\n",
       "      <td>-3149.715</td>\n",
       "    </tr>\n",
       "    <tr>\n",
       "      <th>3</th>\n",
       "      <td>0.857</td>\n",
       "      <td>-1925.793</td>\n",
       "      <td>-7756204.472</td>\n",
       "      <td>-2784.996</td>\n",
       "    </tr>\n",
       "    <tr>\n",
       "      <th>4</th>\n",
       "      <td>0.848</td>\n",
       "      <td>-1971.672</td>\n",
       "      <td>-8425036.688</td>\n",
       "      <td>-2902.591</td>\n",
       "    </tr>\n",
       "    <tr>\n",
       "      <th>5</th>\n",
       "      <td>0.850</td>\n",
       "      <td>-1917.787</td>\n",
       "      <td>-7437491.198</td>\n",
       "      <td>-2727.176</td>\n",
       "    </tr>\n",
       "  </tbody>\n",
       "</table>\n",
       "</div>"
      ],
      "text/plain": [
       "   test_r2  test_neg_mean_absolute_error  test_neg_mean_squared_error  \\\n",
       "1    0.849                     -1947.250                 -8240009.437   \n",
       "2    0.831                     -1992.864                 -9920703.024   \n",
       "3    0.857                     -1925.793                 -7756204.472   \n",
       "4    0.848                     -1971.672                 -8425036.688   \n",
       "5    0.850                     -1917.787                 -7437491.198   \n",
       "\n",
       "   test_neg_root_mean_squared_error  \n",
       "1                         -2870.542  \n",
       "2                         -3149.715  \n",
       "3                         -2784.996  \n",
       "4                         -2902.591  \n",
       "5                         -2727.176  "
      ]
     },
     "execution_count": 139,
     "metadata": {},
     "output_type": "execute_result"
    }
   ],
   "source": [
    "scores = pd.DataFrame(scores, index = range(1, 6))\n",
    "scores.iloc[:,2:]"
   ]
  },
  {
   "cell_type": "code",
   "execution_count": 140,
   "metadata": {},
   "outputs": [
    {
     "data": {
      "text/plain": [
       "test_r2                                   0.847\n",
       "test_neg_mean_absolute_error          -1951.073\n",
       "test_neg_mean_squared_error        -8355888.964\n",
       "test_neg_root_mean_squared_error      -2887.004\n",
       "dtype: float64"
      ]
     },
     "execution_count": 140,
     "metadata": {},
     "output_type": "execute_result"
    }
   ],
   "source": [
    "scores = pd.DataFrame(scores, index = range(1, 11))\n",
    "scores.iloc[:,2:].mean()"
   ]
  },
  {
   "cell_type": "code",
   "execution_count": 141,
   "metadata": {},
   "outputs": [
    {
     "data": {
      "text/html": [
       "<div>\n",
       "<style scoped>\n",
       "    .dataframe tbody tr th:only-of-type {\n",
       "        vertical-align: middle;\n",
       "    }\n",
       "\n",
       "    .dataframe tbody tr th {\n",
       "        vertical-align: top;\n",
       "    }\n",
       "\n",
       "    .dataframe thead th {\n",
       "        text-align: right;\n",
       "    }\n",
       "</style>\n",
       "<table border=\"1\" class=\"dataframe\">\n",
       "  <thead>\n",
       "    <tr style=\"text-align: right;\">\n",
       "      <th></th>\n",
       "      <th>elastic_train</th>\n",
       "      <th>elastic_test</th>\n",
       "    </tr>\n",
       "  </thead>\n",
       "  <tbody>\n",
       "    <tr>\n",
       "      <th>R2</th>\n",
       "      <td>0.850</td>\n",
       "      <td>0.859</td>\n",
       "    </tr>\n",
       "    <tr>\n",
       "      <th>mae</th>\n",
       "      <td>1934.866</td>\n",
       "      <td>1941.811</td>\n",
       "    </tr>\n",
       "    <tr>\n",
       "      <th>mse</th>\n",
       "      <td>8177121.701</td>\n",
       "      <td>7624870.831</td>\n",
       "    </tr>\n",
       "    <tr>\n",
       "      <th>rmse</th>\n",
       "      <td>2859.567</td>\n",
       "      <td>2761.317</td>\n",
       "    </tr>\n",
       "  </tbody>\n",
       "</table>\n",
       "</div>"
      ],
      "text/plain": [
       "      elastic_train  elastic_test\n",
       "R2            0.850         0.859\n",
       "mae        1934.866      1941.811\n",
       "mse     8177121.701   7624870.831\n",
       "rmse       2859.567      2761.317"
      ]
     },
     "execution_count": 141,
     "metadata": {},
     "output_type": "execute_result"
    }
   ],
   "source": [
    "train_val(y_train, y_train_pred, y_test, y_pred, \"elastic\")"
   ]
  },
  {
   "cell_type": "code",
   "execution_count": 142,
   "metadata": {},
   "outputs": [
    {
     "data": {
      "text/plain": [
       "array([-1055.21041867,   685.54703588, -1153.29980231,  -149.78087302,\n",
       "        1152.76236461,   -99.59570036,   158.72710131,   338.5006964 ,\n",
       "         190.16122704,    61.33305136,    44.09341316,    49.87967986,\n",
       "         222.43108687,   298.30882961,   -37.49642478,     3.4571606 ,\n",
       "         -18.11355109,    68.18012367,   -67.14122618,    85.60251079,\n",
       "          64.97284897,   383.3951575 ,   -90.03785787,   -76.38680813,\n",
       "          30.58297781,   -60.25205115,    82.84239721,   107.06509255,\n",
       "         -70.62339825,   140.48111779,    25.04631954,   148.56918098,\n",
       "          89.51774963,   273.68356727,    23.91085532,   169.73221702,\n",
       "          65.955728  ,     6.42320799,   -20.20899765,    97.23287   ,\n",
       "         196.00334573,   190.98374453,   -10.14713862,   180.79922289,\n",
       "         105.52940961,   -42.11121395,   -21.11665451,   -10.91760435,\n",
       "        -115.41742848,   -25.88291934,   172.90436466,     1.31066733,\n",
       "         -22.037872  ,  -172.63617822,    56.49403906,   -19.46261547,\n",
       "         -60.5859861 ,  -217.87582298,   174.25867634,    47.35798602,\n",
       "          63.52990211,   -26.86615195,    -3.80710309,  -106.79747206,\n",
       "         100.19850924,   -82.60876411,    -8.04190927,   101.80864468,\n",
       "          61.54061503,   137.75867503,  -159.4530258 ,   -71.32665817,\n",
       "          39.98817732,   -14.6823131 ,   -39.78618599,   -73.0993968 ,\n",
       "          79.12513932,     2.31668726,    26.0768618 ,    59.83127645,\n",
       "        -106.35182127,   -83.69723173,  -134.74928703,    33.61093824,\n",
       "         -30.44132332,   -47.94416631,   162.82388787,  -153.15202612,\n",
       "        -217.37081086,   -39.62782565,   -36.10708554,  -178.9956746 ,\n",
       "        -150.85168325,   363.40169908,   278.19766028,     5.87065141,\n",
       "          40.62541294,  -107.28295233,  -120.35136462,   108.55545743,\n",
       "         -33.83789333,    48.27605466,    52.24536098,   135.00827784,\n",
       "         494.59224777,  -414.50444026,  -831.58094349,    22.72613302,\n",
       "        -643.97952823,  -212.4491901 ,   607.8959361 ,    35.45307914,\n",
       "         -11.08415882,   -72.61083294,    54.12993641,   -27.94299553,\n",
       "         -63.63222832,   504.23158081,  -181.15371711,   320.92025207,\n",
       "         -11.68093202,  -612.36120443,   -30.95952882,   -13.1472945 ,\n",
       "          30.1484591 ,    13.96574055,   218.26527356,  -515.75301885,\n",
       "         327.43692888,  -251.37963188,   -17.47235406])"
      ]
     },
     "execution_count": 142,
     "metadata": {},
     "output_type": "execute_result"
    }
   ],
   "source": [
    "elastic_model.coef_"
   ]
  },
  {
   "cell_type": "code",
   "execution_count": 143,
   "metadata": {},
   "outputs": [],
   "source": [
    "em_df = pd.DataFrame(elastic_model.coef_, columns=[\"elastic_coef_(alp:1, l1:0.5)\"])"
   ]
  },
  {
   "cell_type": "code",
   "execution_count": 144,
   "metadata": {},
   "outputs": [
    {
     "data": {
      "text/html": [
       "<div>\n",
       "<style scoped>\n",
       "    .dataframe tbody tr th:only-of-type {\n",
       "        vertical-align: middle;\n",
       "    }\n",
       "\n",
       "    .dataframe tbody tr th {\n",
       "        vertical-align: top;\n",
       "    }\n",
       "\n",
       "    .dataframe thead th {\n",
       "        text-align: right;\n",
       "    }\n",
       "</style>\n",
       "<table border=\"1\" class=\"dataframe\">\n",
       "  <thead>\n",
       "    <tr style=\"text-align: right;\">\n",
       "      <th></th>\n",
       "      <th>lm_coef</th>\n",
       "      <th>ridge_coef_1</th>\n",
       "      <th>ridge_cv_coef_0.02</th>\n",
       "      <th>lasso_coef_1</th>\n",
       "      <th>lasso_cv_coef_0.01</th>\n",
       "      <th>elastic_coef_(alp:1, l1:0.5)</th>\n",
       "    </tr>\n",
       "  </thead>\n",
       "  <tbody>\n",
       "    <tr>\n",
       "      <th>0</th>\n",
       "      <td>-1364.297</td>\n",
       "      <td>-1364.230</td>\n",
       "      <td>-1364.230</td>\n",
       "      <td>-1362.814</td>\n",
       "      <td>-1362.814</td>\n",
       "      <td>-1055.210</td>\n",
       "    </tr>\n",
       "    <tr>\n",
       "      <th>1</th>\n",
       "      <td>406.600</td>\n",
       "      <td>406.891</td>\n",
       "      <td>406.891</td>\n",
       "      <td>406.418</td>\n",
       "      <td>406.418</td>\n",
       "      <td>685.547</td>\n",
       "    </tr>\n",
       "    <tr>\n",
       "      <th>2</th>\n",
       "      <td>-1793.425</td>\n",
       "      <td>-1793.307</td>\n",
       "      <td>-1793.307</td>\n",
       "      <td>-1795.240</td>\n",
       "      <td>-1795.240</td>\n",
       "      <td>-1153.300</td>\n",
       "    </tr>\n",
       "    <tr>\n",
       "      <th>3</th>\n",
       "      <td>29.963</td>\n",
       "      <td>29.847</td>\n",
       "      <td>29.847</td>\n",
       "      <td>27.913</td>\n",
       "      <td>27.913</td>\n",
       "      <td>-149.781</td>\n",
       "    </tr>\n",
       "    <tr>\n",
       "      <th>4</th>\n",
       "      <td>2539.899</td>\n",
       "      <td>2538.609</td>\n",
       "      <td>2538.609</td>\n",
       "      <td>2531.401</td>\n",
       "      <td>2531.401</td>\n",
       "      <td>1152.762</td>\n",
       "    </tr>\n",
       "    <tr>\n",
       "      <th>...</th>\n",
       "      <td>...</td>\n",
       "      <td>...</td>\n",
       "      <td>...</td>\n",
       "      <td>...</td>\n",
       "      <td>...</td>\n",
       "      <td>...</td>\n",
       "    </tr>\n",
       "    <tr>\n",
       "      <th>126</th>\n",
       "      <td>108.380</td>\n",
       "      <td>108.410</td>\n",
       "      <td>108.410</td>\n",
       "      <td>108.292</td>\n",
       "      <td>108.292</td>\n",
       "      <td>218.265</td>\n",
       "    </tr>\n",
       "    <tr>\n",
       "      <th>127</th>\n",
       "      <td>-660.643</td>\n",
       "      <td>-660.645</td>\n",
       "      <td>-660.645</td>\n",
       "      <td>-662.256</td>\n",
       "      <td>-662.256</td>\n",
       "      <td>-515.753</td>\n",
       "    </tr>\n",
       "    <tr>\n",
       "      <th>128</th>\n",
       "      <td>424.725</td>\n",
       "      <td>424.717</td>\n",
       "      <td>424.717</td>\n",
       "      <td>423.653</td>\n",
       "      <td>423.653</td>\n",
       "      <td>327.437</td>\n",
       "    </tr>\n",
       "    <tr>\n",
       "      <th>129</th>\n",
       "      <td>-350.047</td>\n",
       "      <td>-350.075</td>\n",
       "      <td>-350.075</td>\n",
       "      <td>-349.324</td>\n",
       "      <td>-349.324</td>\n",
       "      <td>-251.380</td>\n",
       "    </tr>\n",
       "    <tr>\n",
       "      <th>130</th>\n",
       "      <td>-25.679</td>\n",
       "      <td>-25.684</td>\n",
       "      <td>-25.684</td>\n",
       "      <td>-24.672</td>\n",
       "      <td>-24.672</td>\n",
       "      <td>-17.472</td>\n",
       "    </tr>\n",
       "  </tbody>\n",
       "</table>\n",
       "<p>131 rows × 6 columns</p>\n",
       "</div>"
      ],
      "text/plain": [
       "      lm_coef  ridge_coef_1  ridge_cv_coef_0.02  lasso_coef_1  \\\n",
       "0   -1364.297     -1364.230           -1364.230     -1362.814   \n",
       "1     406.600       406.891             406.891       406.418   \n",
       "2   -1793.425     -1793.307           -1793.307     -1795.240   \n",
       "3      29.963        29.847              29.847        27.913   \n",
       "4    2539.899      2538.609            2538.609      2531.401   \n",
       "..        ...           ...                 ...           ...   \n",
       "126   108.380       108.410             108.410       108.292   \n",
       "127  -660.643      -660.645            -660.645      -662.256   \n",
       "128   424.725       424.717             424.717       423.653   \n",
       "129  -350.047      -350.075            -350.075      -349.324   \n",
       "130   -25.679       -25.684             -25.684       -24.672   \n",
       "\n",
       "     lasso_cv_coef_0.01  elastic_coef_(alp:1, l1:0.5)  \n",
       "0             -1362.814                     -1055.210  \n",
       "1               406.418                       685.547  \n",
       "2             -1795.240                     -1153.300  \n",
       "3                27.913                      -149.781  \n",
       "4              2531.401                      1152.762  \n",
       "..                  ...                           ...  \n",
       "126             108.292                       218.265  \n",
       "127            -662.256                      -515.753  \n",
       "128             423.653                       327.437  \n",
       "129            -349.324                      -251.380  \n",
       "130             -24.672                       -17.472  \n",
       "\n",
       "[131 rows x 6 columns]"
      ]
     },
     "execution_count": 144,
     "metadata": {},
     "output_type": "execute_result"
    }
   ],
   "source": [
    "pd.concat([lm_df, rm_df, rcm_df, lsm_df, lcm_df, em_df], axis = 1)"
   ]
  },
  {
   "cell_type": "markdown",
   "metadata": {},
   "source": [
    "### Choosing best alpha and l1_ratio values with Cross-Validation"
   ]
  },
  {
   "cell_type": "code",
   "execution_count": 145,
   "metadata": {},
   "outputs": [],
   "source": [
    "elastic_cv_model = ElasticNetCV(alphas = alpha_space, l1_ratio=[0.1, 0.5, 0.7,0.9, 0.95, 1], cv = 5, \n",
    "                                max_iter = 100000,random_state=2)"
   ]
  },
  {
   "cell_type": "code",
   "execution_count": 146,
   "metadata": {},
   "outputs": [
    {
     "data": {
      "text/plain": [
       "ElasticNetCV(alphas=array([0.01, 0.02, 0.03, 0.04, 0.05, 0.06, 0.07, 0.08, 0.09, 0.1 , 0.11,\n",
       "       0.12, 0.13, 0.14, 0.15, 0.16, 0.17, 0.18, 0.19, 0.2 , 0.21, 0.22,\n",
       "       0.23, 0.24, 0.25, 0.26, 0.27, 0.28, 0.29, 0.3 , 0.31, 0.32, 0.33,\n",
       "       0.34, 0.35, 0.36, 0.37, 0.38, 0.39, 0.4 , 0.41, 0.42, 0.43, 0.44,\n",
       "       0.45, 0.46, 0.47, 0.48, 0.49, 0.5 , 0.51, 0.52, 0.53, 0.54, 0.55,\n",
       "       0.56, 0.57, 0.58, 0.59, 0.6 , 0.61, 0.62, 0.63, 0.64, 0.65, 0.66,\n",
       "       0.67, 0.68, 0.69, 0.7 , 0.71, 0.72, 0.73, 0.74, 0.75, 0.76, 0.77,\n",
       "       0.78, 0.79, 0.8 , 0.81, 0.82, 0.83, 0.84, 0.85, 0.86, 0.87, 0.88,\n",
       "       0.89, 0.9 , 0.91, 0.92, 0.93, 0.94, 0.95, 0.96, 0.97, 0.98, 0.99,\n",
       "       1.  ]),\n",
       "             cv=5, l1_ratio=[0.1, 0.5, 0.7, 0.9, 0.95, 1], max_iter=100000,\n",
       "             random_state=2)"
      ]
     },
     "execution_count": 146,
     "metadata": {},
     "output_type": "execute_result"
    }
   ],
   "source": [
    "elastic_cv_model.fit(X_train_scaled, y_train)"
   ]
  },
  {
   "cell_type": "code",
   "execution_count": 147,
   "metadata": {},
   "outputs": [
    {
     "data": {
      "text/plain": [
       "1.0"
      ]
     },
     "execution_count": 147,
     "metadata": {},
     "output_type": "execute_result"
    }
   ],
   "source": [
    "elastic_cv_model.alpha_"
   ]
  },
  {
   "cell_type": "code",
   "execution_count": 148,
   "metadata": {},
   "outputs": [
    {
     "data": {
      "text/plain": [
       "1.0"
      ]
     },
     "execution_count": 148,
     "metadata": {},
     "output_type": "execute_result"
    }
   ],
   "source": [
    "elastic_cv_model.l1_ratio_"
   ]
  },
  {
   "cell_type": "code",
   "execution_count": 149,
   "metadata": {},
   "outputs": [],
   "source": [
    "y_pred = elastic_cv_model.predict(X_test_scaled)\n",
    "y_train_pred = elastic_cv_model.predict(X_train_scaled)"
   ]
  },
  {
   "cell_type": "code",
   "execution_count": 150,
   "metadata": {},
   "outputs": [
    {
     "data": {
      "text/html": [
       "<div>\n",
       "<style scoped>\n",
       "    .dataframe tbody tr th:only-of-type {\n",
       "        vertical-align: middle;\n",
       "    }\n",
       "\n",
       "    .dataframe tbody tr th {\n",
       "        vertical-align: top;\n",
       "    }\n",
       "\n",
       "    .dataframe thead th {\n",
       "        text-align: right;\n",
       "    }\n",
       "</style>\n",
       "<table border=\"1\" class=\"dataframe\">\n",
       "  <thead>\n",
       "    <tr style=\"text-align: right;\">\n",
       "      <th></th>\n",
       "      <th>elastic_cv_train</th>\n",
       "      <th>elastic_cv_test</th>\n",
       "    </tr>\n",
       "  </thead>\n",
       "  <tbody>\n",
       "    <tr>\n",
       "      <th>R2</th>\n",
       "      <td>0.889</td>\n",
       "      <td>0.893</td>\n",
       "    </tr>\n",
       "    <tr>\n",
       "      <th>mae</th>\n",
       "      <td>1706.020</td>\n",
       "      <td>1713.023</td>\n",
       "    </tr>\n",
       "    <tr>\n",
       "      <th>mse</th>\n",
       "      <td>6056283.058</td>\n",
       "      <td>5785855.799</td>\n",
       "    </tr>\n",
       "    <tr>\n",
       "      <th>rmse</th>\n",
       "      <td>2460.952</td>\n",
       "      <td>2405.381</td>\n",
       "    </tr>\n",
       "  </tbody>\n",
       "</table>\n",
       "</div>"
      ],
      "text/plain": [
       "      elastic_cv_train  elastic_cv_test\n",
       "R2               0.889            0.893\n",
       "mae           1706.020         1713.023\n",
       "mse        6056283.058      5785855.799\n",
       "rmse          2460.952         2405.381"
      ]
     },
     "execution_count": 150,
     "metadata": {},
     "output_type": "execute_result"
    }
   ],
   "source": [
    "ecs = train_val(y_train, y_train_pred, y_test, y_pred, \"elastic_cv\")\n",
    "ecs"
   ]
  },
  {
   "cell_type": "code",
   "execution_count": 151,
   "metadata": {},
   "outputs": [
    {
     "data": {
      "text/html": [
       "<div>\n",
       "<style scoped>\n",
       "    .dataframe tbody tr th:only-of-type {\n",
       "        vertical-align: middle;\n",
       "    }\n",
       "\n",
       "    .dataframe tbody tr th {\n",
       "        vertical-align: top;\n",
       "    }\n",
       "\n",
       "    .dataframe thead th {\n",
       "        text-align: right;\n",
       "    }\n",
       "</style>\n",
       "<table border=\"1\" class=\"dataframe\">\n",
       "  <thead>\n",
       "    <tr style=\"text-align: right;\">\n",
       "      <th></th>\n",
       "      <th>linear_train</th>\n",
       "      <th>linear_test</th>\n",
       "      <th>ridge_train</th>\n",
       "      <th>ridge_test</th>\n",
       "      <th>ridge_cv_train</th>\n",
       "      <th>ridge_cv_test</th>\n",
       "      <th>lasso_train</th>\n",
       "      <th>lasso_test</th>\n",
       "      <th>lasso_cv_train</th>\n",
       "      <th>lasso_cv_test</th>\n",
       "      <th>elastic_train</th>\n",
       "      <th>elastic_test</th>\n",
       "      <th>elastic_cv_train</th>\n",
       "      <th>elastic_cv_test</th>\n",
       "    </tr>\n",
       "  </thead>\n",
       "  <tbody>\n",
       "    <tr>\n",
       "      <th>R2</th>\n",
       "      <td>0.889</td>\n",
       "      <td>0.893</td>\n",
       "      <td>0.889</td>\n",
       "      <td>0.893</td>\n",
       "      <td>0.889</td>\n",
       "      <td>0.893</td>\n",
       "      <td>0.889</td>\n",
       "      <td>0.893</td>\n",
       "      <td>0.889</td>\n",
       "      <td>0.893</td>\n",
       "      <td>0.850</td>\n",
       "      <td>0.859</td>\n",
       "      <td>0.889</td>\n",
       "      <td>0.893</td>\n",
       "    </tr>\n",
       "    <tr>\n",
       "      <th>mae</th>\n",
       "      <td>1706.582</td>\n",
       "      <td>1714.381</td>\n",
       "      <td>1706.536</td>\n",
       "      <td>1714.310</td>\n",
       "      <td>1706.536</td>\n",
       "      <td>1714.310</td>\n",
       "      <td>1706.020</td>\n",
       "      <td>1713.023</td>\n",
       "      <td>1706.020</td>\n",
       "      <td>1713.023</td>\n",
       "      <td>1934.866</td>\n",
       "      <td>1941.811</td>\n",
       "      <td>1706.020</td>\n",
       "      <td>1713.023</td>\n",
       "    </tr>\n",
       "    <tr>\n",
       "      <th>mse</th>\n",
       "      <td>6055898.162</td>\n",
       "      <td>5794204.675</td>\n",
       "      <td>6055899.473</td>\n",
       "      <td>5793909.037</td>\n",
       "      <td>6055899.473</td>\n",
       "      <td>5793909.037</td>\n",
       "      <td>6056283.058</td>\n",
       "      <td>5785855.799</td>\n",
       "      <td>6056283.058</td>\n",
       "      <td>5785855.799</td>\n",
       "      <td>8177121.701</td>\n",
       "      <td>7624870.831</td>\n",
       "      <td>6056283.058</td>\n",
       "      <td>5785855.799</td>\n",
       "    </tr>\n",
       "    <tr>\n",
       "      <th>rmse</th>\n",
       "      <td>2460.873</td>\n",
       "      <td>2407.115</td>\n",
       "      <td>2460.874</td>\n",
       "      <td>2407.054</td>\n",
       "      <td>2460.874</td>\n",
       "      <td>2407.054</td>\n",
       "      <td>2460.952</td>\n",
       "      <td>2405.381</td>\n",
       "      <td>2460.952</td>\n",
       "      <td>2405.381</td>\n",
       "      <td>2859.567</td>\n",
       "      <td>2761.317</td>\n",
       "      <td>2460.952</td>\n",
       "      <td>2405.381</td>\n",
       "    </tr>\n",
       "  </tbody>\n",
       "</table>\n",
       "</div>"
      ],
      "text/plain": [
       "      linear_train  linear_test  ridge_train  ridge_test  ridge_cv_train  \\\n",
       "R2           0.889        0.893        0.889       0.893           0.889   \n",
       "mae       1706.582     1714.381     1706.536    1714.310        1706.536   \n",
       "mse    6055898.162  5794204.675  6055899.473 5793909.037     6055899.473   \n",
       "rmse      2460.873     2407.115     2460.874    2407.054        2460.874   \n",
       "\n",
       "      ridge_cv_test  lasso_train  lasso_test  lasso_cv_train  lasso_cv_test  \\\n",
       "R2            0.893        0.889       0.893           0.889          0.893   \n",
       "mae        1714.310     1706.020    1713.023        1706.020       1713.023   \n",
       "mse     5793909.037  6056283.058 5785855.799     6056283.058    5785855.799   \n",
       "rmse       2407.054     2460.952    2405.381        2460.952       2405.381   \n",
       "\n",
       "      elastic_train  elastic_test  elastic_cv_train  elastic_cv_test  \n",
       "R2            0.850         0.859             0.889            0.893  \n",
       "mae        1934.866      1941.811          1706.020         1713.023  \n",
       "mse     8177121.701   7624870.831       6056283.058      5785855.799  \n",
       "rmse       2859.567      2761.317          2460.952         2405.381  "
      ]
     },
     "execution_count": 151,
     "metadata": {},
     "output_type": "execute_result"
    }
   ],
   "source": [
    "pd.concat([ls,rs, rcs, lss, lcs, es, ecs], axis = 1)"
   ]
  },
  {
   "cell_type": "code",
   "execution_count": 152,
   "metadata": {},
   "outputs": [
    {
     "data": {
      "text/plain": [
       "array([-1.36281422e+03,  4.06418104e+02, -1.79523964e+03,  2.79130964e+01,\n",
       "        2.53140074e+03, -8.46376404e+01, -1.58811665e+02, -2.16815135e+02,\n",
       "        5.70858734e+02, -6.70504314e+02,  6.82538983e+01,  3.61320319e+01,\n",
       "       -0.00000000e+00,  1.24452815e+02, -1.16735199e+01,  1.67249774e+02,\n",
       "       -1.17858137e+01, -3.63756485e+01,  6.19543906e+01,  6.90345677e+01,\n",
       "        1.01869236e+02,  4.42610365e+02,  1.13588367e+02,  5.49643554e+01,\n",
       "        2.63367920e+01, -6.33083099e+01,  5.74183488e+01,  6.45436609e+01,\n",
       "       -1.58298001e+02,  9.14785581e+01,  2.94076995e+01,  1.61788610e+02,\n",
       "       -1.78255686e+01,  2.99614258e+02,  2.21762843e+01,  2.13035450e+02,\n",
       "        9.93136630e+01, -2.71610826e+02,  5.17523068e+01, -8.94708258e+01,\n",
       "        6.36587480e+01,  2.03493882e+02, -7.54797634e+01, -3.93526106e+01,\n",
       "        1.25481522e+02, -3.71605573e+00, -3.66538686e+01,  8.27924154e+00,\n",
       "       -2.15019700e+02,  3.36550286e+00,  2.49970081e+02,  4.61182110e+01,\n",
       "        2.39961424e+01,  3.83957134e+00,  5.10973321e+01, -1.05874834e+02,\n",
       "       -6.66700006e+01, -1.51192637e+02,  8.10411218e+01,  1.94730528e+01,\n",
       "        8.02559720e+01, -2.44183563e+01,  1.77796332e+01, -2.69944019e+01,\n",
       "        2.38682631e+01, -3.51696584e+01, -6.24074716e+00,  1.09378927e+02,\n",
       "        5.67295097e+01, -1.34717982e+01, -1.11032252e+02,  9.71634845e+00,\n",
       "        4.39189695e+01, -7.78904983e+01, -1.68895789e+01,  5.11103023e+00,\n",
       "        2.63432064e+01,  3.13575178e+01,  5.46666370e+01, -7.76483808e+01,\n",
       "       -8.83183105e+01, -1.87562649e+01, -1.17776557e+02,  2.58877947e+01,\n",
       "       -0.00000000e+00, -1.09628728e+02,  6.85926175e+01, -2.44800912e+02,\n",
       "       -6.74152806e+01, -2.46242427e+01, -1.17550097e+02, -1.87174469e+02,\n",
       "       -1.18221445e+02,  3.47562012e+02,  2.67875280e+02,  3.35848989e+01,\n",
       "        1.33927393e+02, -1.59484545e+02, -1.20269165e+02,  8.85555418e+01,\n",
       "        7.40524678e+01,  2.83799088e+01,  3.47112079e+01, -1.21569146e+02,\n",
       "        4.36624405e+02, -1.46196316e+03, -1.79674809e+03, -5.24632823e+02,\n",
       "       -1.78262086e+03, -3.87102411e+02,  7.07455065e+02,  1.64269575e+01,\n",
       "       -1.04450344e+01,  3.37725953e+01,  6.39543895e+01,  1.80183678e+02,\n",
       "       -8.84245083e+01,  3.75995310e+02, -7.45727554e+02, -2.93927953e+02,\n",
       "       -6.59104372e+02, -1.30891323e+03,  4.79959566e+02, -4.52362643e-01,\n",
       "        1.17691955e+02,  3.98932179e+01,  1.08291985e+02, -6.62256026e+02,\n",
       "        4.23653275e+02, -3.49323908e+02, -2.46722433e+01])"
      ]
     },
     "execution_count": 152,
     "metadata": {},
     "output_type": "execute_result"
    }
   ],
   "source": [
    "elastic_cv_model.coef_"
   ]
  },
  {
   "cell_type": "code",
   "execution_count": 153,
   "metadata": {},
   "outputs": [],
   "source": [
    "ecm_df = pd.DataFrame(elastic_cv_model.coef_, columns=[\"elastic_coef_(alp:0.01, l1:1)\"])"
   ]
  },
  {
   "cell_type": "code",
   "execution_count": 154,
   "metadata": {},
   "outputs": [
    {
     "data": {
      "text/html": [
       "<div>\n",
       "<style scoped>\n",
       "    .dataframe tbody tr th:only-of-type {\n",
       "        vertical-align: middle;\n",
       "    }\n",
       "\n",
       "    .dataframe tbody tr th {\n",
       "        vertical-align: top;\n",
       "    }\n",
       "\n",
       "    .dataframe thead th {\n",
       "        text-align: right;\n",
       "    }\n",
       "</style>\n",
       "<table border=\"1\" class=\"dataframe\">\n",
       "  <thead>\n",
       "    <tr style=\"text-align: right;\">\n",
       "      <th></th>\n",
       "      <th>lm_coef</th>\n",
       "      <th>ridge_coef_1</th>\n",
       "      <th>ridge_cv_coef_0.02</th>\n",
       "      <th>lasso_coef_1</th>\n",
       "      <th>lasso_cv_coef_0.01</th>\n",
       "      <th>elastic_coef_(alp:1, l1:0.5)</th>\n",
       "      <th>elastic_coef_(alp:0.01, l1:1)</th>\n",
       "    </tr>\n",
       "  </thead>\n",
       "  <tbody>\n",
       "    <tr>\n",
       "      <th>0</th>\n",
       "      <td>-1364.297</td>\n",
       "      <td>-1364.230</td>\n",
       "      <td>-1364.230</td>\n",
       "      <td>-1362.814</td>\n",
       "      <td>-1362.814</td>\n",
       "      <td>-1055.210</td>\n",
       "      <td>-1362.814</td>\n",
       "    </tr>\n",
       "    <tr>\n",
       "      <th>1</th>\n",
       "      <td>406.600</td>\n",
       "      <td>406.891</td>\n",
       "      <td>406.891</td>\n",
       "      <td>406.418</td>\n",
       "      <td>406.418</td>\n",
       "      <td>685.547</td>\n",
       "      <td>406.418</td>\n",
       "    </tr>\n",
       "    <tr>\n",
       "      <th>2</th>\n",
       "      <td>-1793.425</td>\n",
       "      <td>-1793.307</td>\n",
       "      <td>-1793.307</td>\n",
       "      <td>-1795.240</td>\n",
       "      <td>-1795.240</td>\n",
       "      <td>-1153.300</td>\n",
       "      <td>-1795.240</td>\n",
       "    </tr>\n",
       "    <tr>\n",
       "      <th>3</th>\n",
       "      <td>29.963</td>\n",
       "      <td>29.847</td>\n",
       "      <td>29.847</td>\n",
       "      <td>27.913</td>\n",
       "      <td>27.913</td>\n",
       "      <td>-149.781</td>\n",
       "      <td>27.913</td>\n",
       "    </tr>\n",
       "    <tr>\n",
       "      <th>4</th>\n",
       "      <td>2539.899</td>\n",
       "      <td>2538.609</td>\n",
       "      <td>2538.609</td>\n",
       "      <td>2531.401</td>\n",
       "      <td>2531.401</td>\n",
       "      <td>1152.762</td>\n",
       "      <td>2531.401</td>\n",
       "    </tr>\n",
       "    <tr>\n",
       "      <th>...</th>\n",
       "      <td>...</td>\n",
       "      <td>...</td>\n",
       "      <td>...</td>\n",
       "      <td>...</td>\n",
       "      <td>...</td>\n",
       "      <td>...</td>\n",
       "      <td>...</td>\n",
       "    </tr>\n",
       "    <tr>\n",
       "      <th>126</th>\n",
       "      <td>108.380</td>\n",
       "      <td>108.410</td>\n",
       "      <td>108.410</td>\n",
       "      <td>108.292</td>\n",
       "      <td>108.292</td>\n",
       "      <td>218.265</td>\n",
       "      <td>108.292</td>\n",
       "    </tr>\n",
       "    <tr>\n",
       "      <th>127</th>\n",
       "      <td>-660.643</td>\n",
       "      <td>-660.645</td>\n",
       "      <td>-660.645</td>\n",
       "      <td>-662.256</td>\n",
       "      <td>-662.256</td>\n",
       "      <td>-515.753</td>\n",
       "      <td>-662.256</td>\n",
       "    </tr>\n",
       "    <tr>\n",
       "      <th>128</th>\n",
       "      <td>424.725</td>\n",
       "      <td>424.717</td>\n",
       "      <td>424.717</td>\n",
       "      <td>423.653</td>\n",
       "      <td>423.653</td>\n",
       "      <td>327.437</td>\n",
       "      <td>423.653</td>\n",
       "    </tr>\n",
       "    <tr>\n",
       "      <th>129</th>\n",
       "      <td>-350.047</td>\n",
       "      <td>-350.075</td>\n",
       "      <td>-350.075</td>\n",
       "      <td>-349.324</td>\n",
       "      <td>-349.324</td>\n",
       "      <td>-251.380</td>\n",
       "      <td>-349.324</td>\n",
       "    </tr>\n",
       "    <tr>\n",
       "      <th>130</th>\n",
       "      <td>-25.679</td>\n",
       "      <td>-25.684</td>\n",
       "      <td>-25.684</td>\n",
       "      <td>-24.672</td>\n",
       "      <td>-24.672</td>\n",
       "      <td>-17.472</td>\n",
       "      <td>-24.672</td>\n",
       "    </tr>\n",
       "  </tbody>\n",
       "</table>\n",
       "<p>131 rows × 7 columns</p>\n",
       "</div>"
      ],
      "text/plain": [
       "      lm_coef  ridge_coef_1  ridge_cv_coef_0.02  lasso_coef_1  \\\n",
       "0   -1364.297     -1364.230           -1364.230     -1362.814   \n",
       "1     406.600       406.891             406.891       406.418   \n",
       "2   -1793.425     -1793.307           -1793.307     -1795.240   \n",
       "3      29.963        29.847              29.847        27.913   \n",
       "4    2539.899      2538.609            2538.609      2531.401   \n",
       "..        ...           ...                 ...           ...   \n",
       "126   108.380       108.410             108.410       108.292   \n",
       "127  -660.643      -660.645            -660.645      -662.256   \n",
       "128   424.725       424.717             424.717       423.653   \n",
       "129  -350.047      -350.075            -350.075      -349.324   \n",
       "130   -25.679       -25.684             -25.684       -24.672   \n",
       "\n",
       "     lasso_cv_coef_0.01  elastic_coef_(alp:1, l1:0.5)  \\\n",
       "0             -1362.814                     -1055.210   \n",
       "1               406.418                       685.547   \n",
       "2             -1795.240                     -1153.300   \n",
       "3                27.913                      -149.781   \n",
       "4              2531.401                      1152.762   \n",
       "..                  ...                           ...   \n",
       "126             108.292                       218.265   \n",
       "127            -662.256                      -515.753   \n",
       "128             423.653                       327.437   \n",
       "129            -349.324                      -251.380   \n",
       "130             -24.672                       -17.472   \n",
       "\n",
       "     elastic_coef_(alp:0.01, l1:1)  \n",
       "0                        -1362.814  \n",
       "1                          406.418  \n",
       "2                        -1795.240  \n",
       "3                           27.913  \n",
       "4                         2531.401  \n",
       "..                             ...  \n",
       "126                        108.292  \n",
       "127                       -662.256  \n",
       "128                        423.653  \n",
       "129                       -349.324  \n",
       "130                        -24.672  \n",
       "\n",
       "[131 rows x 7 columns]"
      ]
     },
     "execution_count": 154,
     "metadata": {},
     "output_type": "execute_result"
    }
   ],
   "source": [
    "pd.concat([lm_df, rm_df, rcm_df, lsm_df, lcm_df, em_df, ecm_df], axis = 1)"
   ]
  },
  {
   "cell_type": "markdown",
   "metadata": {
    "id": "sYyuZQtWmqZO"
   },
   "source": [
    "## 7. Visually Compare Models Performance In a Graph"
   ]
  },
  {
   "cell_type": "code",
   "execution_count": 155,
   "metadata": {
    "id": "iig18G7zmqZO"
   },
   "outputs": [
    {
     "data": {
      "image/png": "[encoded data removed]",
      "text/plain": [
       "<Figure size 720x3000 with 1 Axes>"
      ]
     },
     "metadata": {},
     "output_type": "display_data"
    },
    {
     "data": {
      "text/plain": [
       "<AxesSubplot:title={'center':'Feature Importances of 131 Features using RidgeCV'}, xlabel='relative coefficient magnitude'>"
      ]
     },
     "execution_count": 155,
     "metadata": {},
     "output_type": "execute_result"
    }
   ],
   "source": [
    "from yellowbrick.model_selection import FeatureImportances\n",
    "from yellowbrick.features import RadViz\n",
    "\n",
    "viz = FeatureImportances(ridge_cv_model, labels=pd.DataFrame(X_train).columns)\n",
    "visualizer = RadViz(size=(720, 3000))\n",
    "viz.fit(X_train, y_train)\n",
    "viz.show()"
   ]
  },
  {
   "cell_type": "code",
   "execution_count": 156,
   "metadata": {},
   "outputs": [
    {
     "data": {
      "image/png": "[encoded data removed]",
      "text/plain": [
       "<Figure size 720x3000 with 1 Axes>"
      ]
     },
     "metadata": {},
     "output_type": "display_data"
    },
    {
     "data": {
      "text/plain": [
       "<AxesSubplot:title={'center':'Feature Importances of 131 Features using LassoCV'}, xlabel='relative coefficient magnitude'>"
      ]
     },
     "execution_count": 156,
     "metadata": {},
     "output_type": "execute_result"
    }
   ],
   "source": [
    "from yellowbrick.model_selection import FeatureImportances\n",
    "from yellowbrick.features import RadViz\n",
    "\n",
    "viz = FeatureImportances(lasso_cv_model, labels=pd.DataFrame(X_train).columns)\n",
    "visualizer = RadViz(size=(720, 3000))\n",
    "viz.fit(X_train, y_train)\n",
    "viz.show()"
   ]
  },
  {
   "cell_type": "markdown",
   "metadata": {},
   "source": [
    "___\n",
    "\n",
    "<p style=\"text-align: center;\"><img src=\"https://docs.google.com/uc?id=1lY0Uj5R04yMY3-ZppPWxqCr5pvBLYPnV\" class=\"img-fluid\" alt=\"CLRSWY\"></p>\n",
    "\n",
    "___"
   ]
  },
  {
   "cell_type": "code",
   "execution_count": null,
   "metadata": {},
   "outputs": [],
   "source": []
  }
 ],
 "metadata": {
  "colab": {
   "collapsed_sections": [],
   "name": "modeling_auto_scout_Student_V1.ipynb",
   "provenance": []
  },
  "kernelspec": {
   "display_name": "Python 3 (ipykernel)",
   "language": "python",
   "name": "python3"
  },
  "language_info": {
   "codemirror_mode": {
    "name": "ipython",
    "version": 3
   },
   "file_extension": ".py",
   "mimetype": "text/x-python",
   "name": "python",
   "nbconvert_exporter": "python",
   "pygments_lexer": "ipython3",
   "version": "3.9.7"
  }
 },
 "nbformat": 4,
 "nbformat_minor": 4
}
